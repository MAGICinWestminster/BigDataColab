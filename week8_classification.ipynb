{
  "nbformat": 4,
  "nbformat_minor": 0,
  "metadata": {
    "colab": {
      "name": "week8_classification.ipynb",
      "provenance": []
    },
    "kernelspec": {
      "name": "python3",
      "display_name": "Python 3"
    }
  },
  "cells": [
    {
      "cell_type": "markdown",
      "metadata": {
        "id": "hw_qB1WlEEIr"
      },
      "source": [
        "# Big Data Bootcamp Week 8: Classifiers\n",
        "\n",
        "In this notebook we'll train the 5 or not 5 classifier we discussed last week. Then we'll extend the 5 vs. 5 to become a multiclass classifier. This week, we'll go through the process using native python types (lists, dictionaries) instead of pandas objects to remind you about their types and how to use them. "
      ]
    },
    {
      "cell_type": "markdown",
      "metadata": {
        "id": "1Y33J4yMEXWA"
      },
      "source": [
        "First import the dataset from sklearn."
      ]
    },
    {
      "cell_type": "code",
      "metadata": {
        "id": "jA2M_JBIbCJN",
        "outputId": "b9b91f52-fb44-479c-f282-5aee2fd23947",
        "colab": {
          "base_uri": "https://localhost:8080/"
        }
      },
      "source": [
        "import numpy as np\n",
        "from sklearn.datasets import fetch_openml\n",
        "mnist = fetch_openml('mnist_784', version=1)\n",
        "mnist.keys()"
      ],
      "execution_count": 7,
      "outputs": [
        {
          "output_type": "execute_result",
          "data": {
            "text/plain": [
              "dict_keys(['data', 'target', 'frame', 'feature_names', 'target_names', 'DESCR', 'details', 'categories', 'url'])"
            ]
          },
          "metadata": {
            "tags": []
          },
          "execution_count": 7
        }
      ]
    },
    {
      "cell_type": "markdown",
      "metadata": {
        "id": "9PjaH6LrEolu"
      },
      "source": [
        "X is a list of lists. Each value in the list is the set of pixels in the image. Y is a list of target values (what we want to predict). "
      ]
    },
    {
      "cell_type": "code",
      "metadata": {
        "id": "vVRRyma3-wo3",
        "outputId": "ce2f2029-63a7-47df-b576-60606954de18",
        "colab": {
          "base_uri": "https://localhost:8080/"
        }
      },
      "source": [
        "X, y = mnist[\"data\"], mnist[\"target\"]\n",
        "X.shape"
      ],
      "execution_count": 8,
      "outputs": [
        {
          "output_type": "execute_result",
          "data": {
            "text/plain": [
              "(70000, 784)"
            ]
          },
          "metadata": {
            "tags": []
          },
          "execution_count": 8
        }
      ]
    },
    {
      "cell_type": "code",
      "metadata": {
        "id": "LMEEe-AgASTy",
        "outputId": "7ff4b2a4-8a94-433d-e0df-e9d688490896",
        "colab": {
          "base_uri": "https://localhost:8080/"
        }
      },
      "source": [
        "y.shape"
      ],
      "execution_count": 9,
      "outputs": [
        {
          "output_type": "execute_result",
          "data": {
            "text/plain": [
              "(70000,)"
            ]
          },
          "metadata": {
            "tags": []
          },
          "execution_count": 9
        }
      ]
    },
    {
      "cell_type": "code",
      "metadata": {
        "id": "3XC9yJB-AU2s",
        "outputId": "a96ea279-2c34-49cb-b49b-66b92a863f66",
        "colab": {
          "base_uri": "https://localhost:8080/"
        }
      },
      "source": [
        "28 * 28"
      ],
      "execution_count": 10,
      "outputs": [
        {
          "output_type": "execute_result",
          "data": {
            "text/plain": [
              "784"
            ]
          },
          "metadata": {
            "tags": []
          },
          "execution_count": 10
        }
      ]
    },
    {
      "cell_type": "code",
      "metadata": {
        "id": "5f9hD955AYB7",
        "outputId": "c64b99b9-0b40-45bd-ec2a-3564628ff8b0",
        "colab": {
          "base_uri": "https://localhost:8080/",
          "height": 35
        }
      },
      "source": [
        "y[0]"
      ],
      "execution_count": 11,
      "outputs": [
        {
          "output_type": "execute_result",
          "data": {
            "application/vnd.google.colaboratory.intrinsic+json": {
              "type": "string"
            },
            "text/plain": [
              "'5'"
            ]
          },
          "metadata": {
            "tags": []
          },
          "execution_count": 11
        }
      ]
    },
    {
      "cell_type": "markdown",
      "metadata": {
        "id": "XjGsf4eJFCOp"
      },
      "source": [
        "We have to convert the target value (stored as a string) to an integer."
      ]
    },
    {
      "cell_type": "code",
      "metadata": {
        "id": "TMIldGZdAZhK"
      },
      "source": [
        "y = y.astype(np.uint8)"
      ],
      "execution_count": 12,
      "outputs": []
    },
    {
      "cell_type": "code",
      "metadata": {
        "id": "Y-EGpIelAdwx"
      },
      "source": [
        "X_train, X_test, y_train, y_test = X[0:60000], X[60000:], y[0:60000], y[60000:]"
      ],
      "execution_count": 13,
      "outputs": []
    },
    {
      "cell_type": "markdown",
      "metadata": {
        "id": "9lZxNR1DFNxH"
      },
      "source": [
        "Convert the target list from an integer value to True (image is a 5) or False (image is not a 5)."
      ]
    },
    {
      "cell_type": "code",
      "metadata": {
        "id": "XGjKBDE6AiE4"
      },
      "source": [
        "y_train_5 = (y_train == 5)\n",
        "y_test_5 = (y_test == 5)"
      ],
      "execution_count": 14,
      "outputs": []
    },
    {
      "cell_type": "code",
      "metadata": {
        "id": "rOQ2Ero5AmOx",
        "outputId": "b0f2749e-0290-4f2a-f23b-badbd286a070",
        "colab": {
          "base_uri": "https://localhost:8080/"
        }
      },
      "source": [
        "from sklearn.linear_model import SGDClassifier\n",
        "\n",
        "sgd_clf = SGDClassifier(max_iter=1000, tol=1e-3, random_state=42)\n",
        "sgd_clf.fit(X_train, y_train_5)"
      ],
      "execution_count": 15,
      "outputs": [
        {
          "output_type": "execute_result",
          "data": {
            "text/plain": [
              "SGDClassifier(alpha=0.0001, average=False, class_weight=None,\n",
              "              early_stopping=False, epsilon=0.1, eta0=0.0, fit_intercept=True,\n",
              "              l1_ratio=0.15, learning_rate='optimal', loss='hinge',\n",
              "              max_iter=1000, n_iter_no_change=5, n_jobs=None, penalty='l2',\n",
              "              power_t=0.5, random_state=42, shuffle=True, tol=0.001,\n",
              "              validation_fraction=0.1, verbose=0, warm_start=False)"
            ]
          },
          "metadata": {
            "tags": []
          },
          "execution_count": 15
        }
      ]
    },
    {
      "cell_type": "markdown",
      "metadata": {
        "id": "QosrJ4_qFwuA"
      },
      "source": [
        "Let's make a prediction!"
      ]
    },
    {
      "cell_type": "code",
      "metadata": {
        "id": "vkcglbv1JyIg"
      },
      "source": [
        "Y_train[1]"
      ],
      "execution_count": null,
      "outputs": []
    },
    {
      "cell_type": "code",
      "metadata": {
        "id": "W3OW6XsPAqoS",
        "outputId": "162807bd-acd0-476a-9ebd-426fbb4c1590",
        "colab": {
          "base_uri": "https://localhost:8080/"
        }
      },
      "source": [
        "sgd_clf.predict([X_train[1]])"
      ],
      "execution_count": 16,
      "outputs": [
        {
          "output_type": "execute_result",
          "data": {
            "text/plain": [
              "array([False])"
            ]
          },
          "metadata": {
            "tags": []
          },
          "execution_count": 16
        }
      ]
    },
    {
      "cell_type": "markdown",
      "metadata": {
        "id": "iaNVKhd6F0j2"
      },
      "source": [
        "Let's make predicitons on our test set!"
      ]
    },
    {
      "cell_type": "code",
      "metadata": {
        "id": "HyIwUUtiB7Zg"
      },
      "source": [
        "y_test_pred = sgd_clf.predict(X_test)"
      ],
      "execution_count": 17,
      "outputs": []
    },
    {
      "cell_type": "code",
      "metadata": {
        "id": "hPbJp3reCZQQ",
        "outputId": "91be5cdf-b469-4495-df6c-dd8d397fe7a8",
        "colab": {
          "base_uri": "https://localhost:8080/"
        }
      },
      "source": [
        "from sklearn.metrics import confusion_matrix\n",
        "\n",
        "confusion_matrix(y_test_5, y_test_pred)"
      ],
      "execution_count": 18,
      "outputs": [
        {
          "output_type": "execute_result",
          "data": {
            "text/plain": [
              "array([[52316,  2263],\n",
              "       [  601,  4820]])"
            ]
          },
          "metadata": {
            "tags": []
          },
          "execution_count": 18
        }
      ]
    },
    {
      "cell_type": "code",
      "metadata": {
        "id": "z0hzAHr2DFk4"
      },
      "source": [
        "from sklearn.multiclass import OneVsRestClassifier\n",
        "from sklearn.svm import SVC\n",
        "\n",
        "\n",
        "ovo_clf = OneVsRestClassifier(SVC())\n",
        "ovo_clf.fit(X_train, y_train)"
      ],
      "execution_count": null,
      "outputs": []
    },
    {
      "cell_type": "code",
      "metadata": {
        "id": "aivEP54hGLSs"
      },
      "source": [
        "y_test_pred = ovo_clf.predict(X_test)\n",
        "conf_matrix = confusion_matrix(y_test, y_test_pred)"
      ],
      "execution_count": null,
      "outputs": []
    },
    {
      "cell_type": "markdown",
      "metadata": {
        "id": "x6d4U40hHN5J"
      },
      "source": [
        "The confusion matrix gets difficult to interpret when there are many classes. Lets visualize it."
      ]
    },
    {
      "cell_type": "code",
      "metadata": {
        "id": "sjmgJYwqHNFw"
      },
      "source": [
        "plt.matshow(conf_matrix, cmap=plt.cm.gray)\n",
        "plt.show()"
      ],
      "execution_count": null,
      "outputs": []
    },
    {
      "cell_type": "markdown",
      "metadata": {
        "id": "VbuS-BK6HjES"
      },
      "source": [
        "Lets plot the errors instead of the absolute number classified correctly or not. We'll divide each value in the confusion matrix by the number of images in the corresponding class so we can compare error rate instead of absolute number of errors. \n",
        "\n",
        "We'll fill the diagonals with zeros because theres no point seeing a 3vs3 error. "
      ]
    },
    {
      "cell_type": "code",
      "metadata": {
        "id": "ere_d4PXIH-4"
      },
      "source": [
        "row_sums = conf_mx.sum(axis=1, keepdims=True)\n",
        "norm_conf_mx = conf_mx / row_sums\n",
        "np.fill_diagnoal(norm_conf_mx, 0)\n",
        "plt.matshow(norm_conf_mx, cmap=plt.cm.gray)\n",
        "plt.show()"
      ],
      "execution_count": null,
      "outputs": []
    },
    {
      "cell_type": "markdown",
      "metadata": {
        "id": "KqExQUymJjoy"
      },
      "source": [
        "[Here](https://colab.research.google.com/github/google/eng-edu/blob/master/ml/cc/exercises/binary_classification.ipynb?utm_source=mlcc&utm_campaign=colab-external&utm_medium=referral&utm_content=binary_classification_tf2-colab&hl=en#scrollTo=yuw8rRl9lNuL) is a notebook with a more complete classification analysis. "
      ]
    }
  ]
}