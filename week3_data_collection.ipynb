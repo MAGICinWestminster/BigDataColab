{
  "nbformat": 4,
  "nbformat_minor": 0,
  "metadata": {
    "colab": {
      "name": "week3_data_collection.ipynb",
      "provenance": []
    },
    "kernelspec": {
      "name": "python3",
      "display_name": "Python 3"
    }
  },
  "cells": [
    {
      "cell_type": "markdown",
      "metadata": {
        "id": "5W2QGEQ64Zkm"
      },
      "source": [
        "# Big Data Colab Week 3: Data Collection\n",
        "\n",
        "In the past two weeks, we've looked at python and computational thinking as well as manipulating and displaying data using pandas and matplotlib. This week we'll focus on how to collect data.\n",
        "\n",
        "In real life, data doesn't come pre-packaged in a pandas dataframe. Instead, we have to go collect and clean it from some source. This week we'll look at two ways to collect data: web scraping and APIs."
      ]
    },
    {
      "cell_type": "markdown",
      "metadata": {
        "id": "mE3hD7cU6jB_"
      },
      "source": [
        "# Web Scraping\n",
        "Web scraping is the process of collecting information or data from sites on the internet. And yes, copying and pasting a quote or picture from a website is technically web scraping, we're concerned with automating this process to deal with large volumes of data.\n",
        "\n",
        "## Website Structure:\n",
        "Websites are built and rendered using [HTML](https://www.w3schools.com/html/) tags (Hypertext markup language). Other helper languages, for example CSS and javascript, may be present on the site, but ultimatley the browser reads the HTML to decide what visuals and text to render. For example, there is are text, image, list, header, and custom tags. \n",
        "\n",
        "You can use tools like Chrome's DevTools to inspect (and change) the HTML for any page you visit.\n",
        "\n",
        "As mentioned earlier, javascript is often used to help generate HTML for sites. Since the vast majority of HTML is generated programatically (and not by hand), patterns often appear in the structure of the page. Developers rely on these patterns in the HTML when web scraping.\n",
        "\n",
        "\n",
        "## Packages:\n",
        "### [Requests](https://requests.readthedocs.io/en/master/):\n",
        "\n",
        "The requests library is \"an elegant and simple HTTP library for Python.\" Much like typing a url into a browswer and getting a webpage response, you can provide a url to requests and recieve the HTML response for that page. \n",
        "\n",
        "Below, we'll follow the example of a web scraper for jobs on the site Monster. You'll write code to scrape info about housing prices from Zillow."
      ]
    },
    {
      "cell_type": "code",
      "metadata": {
        "id": "u-Kn1-Lj-2iF"
      },
      "source": [
        "import requests\n",
        "\n",
        "city='Baltimore'\n",
        "job='Data-Scientist'\n",
        "jobs_url = f'https://www.monster.com/jobs/search/?q={job}&where={city}'\n",
        "jobs_page = requests.get(jobs_url)\n",
        "jobs_page.content"
      ],
      "execution_count": null,
      "outputs": []
    },
    {
      "cell_type": "markdown",
      "metadata": {
        "id": "4jrHnYyo_yoY"
      },
      "source": [
        "**3.1)** Below, use requests and the url http://books.toscrape.com/ to get the HTML for books within a fictional store. \n"
      ]
    },
    {
      "cell_type": "code",
      "metadata": {
        "id": "tdjlIsWv_n3q"
      },
      "source": [
        "#### YOUR CODE HERE #######"
      ],
      "execution_count": null,
      "outputs": []
    },
    {
      "cell_type": "markdown",
      "metadata": {
        "id": "keWP3jqU-ei0"
      },
      "source": [
        "### [Beautifulsoup](https://www.crummy.com/software/BeautifulSoup/bs4/doc/)\n",
        "\n",
        "You'll notice that the response from the requests library isn't very pretty. You might be able to convert the string response to a dictionary with patience, time, and a lot of loops, but that would be dreadful.\n",
        "\n",
        "Thankfully, beautifulsoup is a library that does all of that for you. It reads in HTML data, parses it into a custom data structure, and then allows you to do things like iterate over the HTML or search for specific keywords or tags. "
      ]
    },
    {
      "cell_type": "code",
      "metadata": {
        "id": "Q8n1HVT-CF9H"
      },
      "source": [
        "from bs4 import BeautifulSoup\n",
        "jobs_soup = BeautifulSoup(jobs_page.content, 'html.parser')"
      ],
      "execution_count": 5,
      "outputs": []
    },
    {
      "cell_type": "markdown",
      "metadata": {
        "id": "xeKPwD_LC6HX"
      },
      "source": [
        "As mentioned earlier, webistes are built from HTML tags. As sites become more complex, they use more custom tags. Its helpful to switch back and forth from Chrome's devtools to determine which html tags contain the data you're looking for. "
      ]
    },
    {
      "cell_type": "code",
      "metadata": {
        "id": "0DKxD87dDpWr"
      },
      "source": [
        "# Getting element that contains data\n",
        "jobs_results = jobs_soup.find(id=\"ResultsContainer\")\n",
        "print(jobs_results.prettify())\n"
      ],
      "execution_count": null,
      "outputs": []
    },
    {
      "cell_type": "markdown",
      "metadata": {
        "id": "FN7tcfYiF-nU"
      },
      "source": [
        "**3.2)** Your turn. Find the HTML tag the encapsulates the results of the bookstore using chrome dev tools and extract it into a variable."
      ]
    },
    {
      "cell_type": "code",
      "metadata": {
        "id": "tDaCXuYPGOK-"
      },
      "source": [
        "\n",
        "##### YOUR CODE HERE #########\n",
        "zillow = requests.get('http://books.toscrape.com/')\n",
        "zillow_soup = BeautifulSoup(zillow.content, 'html.parser')\n",
        "res = zillow_soup.find('ol', class_='row')\n"
      ],
      "execution_count": null,
      "outputs": []
    },
    {
      "cell_type": "markdown",
      "metadata": {
        "id": "INsWYIeJGfgV"
      },
      "source": [
        "Now we have the HTML tag that contains all of the information we want. Unfortunatley there's still a lot of junk and unnecessary information in the tag. Never fear! Beautifulsoup still makes it easy to remove the information that we need."
      ]
    },
    {
      "cell_type": "code",
      "metadata": {
        "id": "Z_YBq7TMFdPl"
      },
      "source": [
        "# Gets the HTML for each card object. Still too much info!!!\n",
        "job_elems = jobs_results.find_all('section', class_='card-content')\n",
        "for elem in job_elems:\n",
        "  print(elem, end='\\n'*2)"
      ],
      "execution_count": null,
      "outputs": []
    },
    {
      "cell_type": "markdown",
      "metadata": {
        "id": "cwtkvdByaAUt"
      },
      "source": [
        "**3.3)** Use beautifulsoup's find_all function to find all the html tags containing the useful data. Create a for loop to iterate over the tags and print them to the screen."
      ]
    },
    {
      "cell_type": "code",
      "metadata": {
        "id": "CegBUHg_Z-Y9"
      },
      "source": [
        "##### YOUR CODE HERE #########"
      ],
      "execution_count": null,
      "outputs": []
    },
    {
      "cell_type": "code",
      "metadata": {
        "id": "D3KsqRCJHQD3"
      },
      "source": [
        "# Gets the HTML tags for the desired information.\n",
        "# Still need to extract the text from the tag.\n",
        "for elem in job_elems:\n",
        "    title_elem = elem.find('h2', class_='title')\n",
        "    company_elem = elem.find('div', class_='company')\n",
        "    location_elem = elem.find('div', class_='location')\n",
        "    print(title_elem)\n",
        "    print(company_elem)\n",
        "    print(location_elem)\n",
        "    print()"
      ],
      "execution_count": null,
      "outputs": []
    },
    {
      "cell_type": "code",
      "metadata": {
        "id": "uNlCLIoXH-HN"
      },
      "source": [
        "for job_elem in job_elems:\n",
        "    title_elem = job_elem.find('h2', class_='title')\n",
        "    company_elem = job_elem.find('div', class_='company')\n",
        "    location_elem = job_elem.find('div', class_='location')\n",
        "    # Remove this line\n",
        "    if(None in (title_elem, company_elem, location_elem)):\n",
        "      continue\n",
        "    print(title_elem.text.strip())\n",
        "    print(company_elem.text.strip())\n",
        "    print(location_elem.text.strip())\n",
        "    print()"
      ],
      "execution_count": null,
      "outputs": []
    },
    {
      "cell_type": "markdown",
      "metadata": {
        "id": "UVh2GphXcRjB"
      },
      "source": [
        "**3.4)** Now that you've pinpointed the imporant tags. Access the important data within those tags using tag.text.strip() or by accessing the the beautifulsoup dictionary."
      ]
    },
    {
      "cell_type": "code",
      "metadata": {
        "id": "3VmXoaH0cmZp"
      },
      "source": [
        "###### YOUR CODE HERE #########"
      ],
      "execution_count": null,
      "outputs": []
    },
    {
      "cell_type": "markdown",
      "metadata": {
        "id": "gGCl-qNjI-kA"
      },
      "source": [
        "Finally, lets create a pandas dataframe from our data. "
      ]
    },
    {
      "cell_type": "code",
      "metadata": {
        "id": "ASeAhZsRdJZU"
      },
      "source": [
        "titles_lst = []\n",
        "company_lst = []\n",
        "location_lst = []\n",
        "\n",
        "for job_elem in job_elems:\n",
        "    title_elem = job_elem.find('h2', class_='title')\n",
        "    company_elem = job_elem.find('div', class_='company')\n",
        "    location_elem = job_elem.find('div', class_='location')\n",
        "    # Remove this line\n",
        "    if(None in (title_elem, company_elem, location_elem)):\n",
        "      continue\n",
        "    titles_lst.append(title_elem.text.strip())\n",
        "    company_lst.append(company_elem.text.strip())\n",
        "    location_lst.append(location_elem.text.strip())\n",
        "\n",
        "\n",
        "d = {'title': titles_lst, 'compay':company_lst, 'location' : location_lst}\n",
        "df = pd.DataFrame(d)\n",
        "df.head()"
      ],
      "execution_count": null,
      "outputs": []
    },
    {
      "cell_type": "code",
      "metadata": {
        "id": "hrmUenaJJtx9"
      },
      "source": [
        "### YOUR CODE HERE ####"
      ],
      "execution_count": null,
      "outputs": []
    },
    {
      "cell_type": "markdown",
      "metadata": {
        "id": "zodu2WcHGAX2"
      },
      "source": [
        "# APIs\n",
        "\n",
        "An [API](https://www.freecodecamp.org/news/what-is-an-api-in-english-please-b880a3214a82/) is an application programming interface. It allows a user to interact with data or functionality of a software system using simple endpoints. An API endpoint hides all the heavy lifting of the data collection and cleaning or fucntionality. Instead of having to scrape a site for data, we can access the data directly.\n",
        "\n",
        "## RESTful APIs\n",
        "A [RESTful](https://searchapparchitecture.techtarget.com/definition/RESTful-API) API is one that allows a user to GET, PUT, POST, or DELETE data. As you'll see below, the endpoints look just like URLs you'd put into the search bar. We'll use the requests library from earlier to query the API"
      ]
    },
    {
      "cell_type": "code",
      "metadata": {
        "id": "L-QgouEEI1HB"
      },
      "source": [
        "import requests\n",
        "\n",
        "r = requests.get('https://disease.sh/v3/covid-19/all?yesterday=true&twoDaysAgo=false&allowNull=true')\n",
        "r=r.json() # javascript-object-notation\n",
        "r"
      ],
      "execution_count": null,
      "outputs": []
    },
    {
      "cell_type": "code",
      "metadata": {
        "id": "rMyqcFGtLxyE",
        "outputId": "dc7e53ca-83e9-4375-fee9-fc43ef61fc16",
        "colab": {
          "base_uri": "https://localhost:8080/",
          "height": 347
        }
      },
      "source": [
        "# What is this code doing?\n",
        "import matplotlib.pyplot as plt\n",
        "import pandas as pd\n",
        "\n",
        "r = requests.get('https://disease.sh/v3/covid-19/historical/usa?lastdays=all')\n",
        "r = r.json()\n",
        "print(r)\n",
        "foo = dict(r['timeline']['cases'])\n",
        "print(foo)\n",
        "\n",
        "new_foo = {}\n",
        "for key, val in foo.items():\n",
        "  new_foo[pd.to_datetime(key)]= val\n",
        "\n",
        "plt.plot(list(new_foo.keys()), list(new_foo.values()))"
      ],
      "execution_count": 70,
      "outputs": [
        {
          "output_type": "stream",
          "text": [
            "{'country': 'USA', 'province': ['mainland'], 'timeline': {'cases': {'1/22/20': 1, '1/23/20': 1, '1/24/20': 2, '1/25/20': 2, '1/26/20': 5, '1/27/20': 5, '1/28/20': 5, '1/29/20': 6, '1/30/20': 6, '1/31/20': 8, '2/1/20': 8, '2/2/20': 8, '2/3/20': 11, '2/4/20': 11, '2/5/20': 11, '2/6/20': 12, '2/7/20': 12, '2/8/20': 12, '2/9/20': 12, '2/10/20': 12, '2/11/20': 13, '2/12/20': 13, '2/13/20': 14, '2/14/20': 14, '2/15/20': 14, '2/16/20': 14, '2/17/20': 14, '2/18/20': 14, '2/19/20': 14, '2/20/20': 14, '2/21/20': 16, '2/22/20': 16, '2/23/20': 16, '2/24/20': 16, '2/25/20': 16, '2/26/20': 16, '2/27/20': 17, '2/28/20': 17, '2/29/20': 25, '3/1/20': 32, '3/2/20': 54, '3/3/20': 74, '3/4/20': 107, '3/5/20': 184, '3/6/20': 237, '3/7/20': 403, '3/8/20': 519, '3/9/20': 589, '3/10/20': 782, '3/11/20': 1145, '3/12/20': 1584, '3/13/20': 2214, '3/14/20': 2971, '3/15/20': 3211, '3/16/20': 4679, '3/17/20': 6513, '3/18/20': 9153, '3/19/20': 13643, '3/20/20': 20007, '3/21/20': 25991, '3/22/20': 34804, '3/23/20': 45973, '3/24/20': 56571, '3/25/20': 68583, '3/26/20': 86495, '3/27/20': 105103, '3/28/20': 124701, '3/29/20': 143672, '3/30/20': 165615, '3/31/20': 192048, '4/1/20': 217730, '4/2/20': 248186, '4/3/20': 280173, '4/4/20': 313154, '4/5/20': 341245, '4/6/20': 371481, '4/7/20': 402917, '4/8/20': 434886, '4/9/20': 469478, '4/10/20': 503006, '4/11/20': 532447, '4/12/20': 559318, '4/13/20': 585240, '4/14/20': 613887, '4/15/20': 643833, '4/16/20': 675261, '4/17/20': 708179, '4/18/20': 735960, '4/19/20': 761620, '4/20/20': 790121, '4/21/20': 816100, '4/22/20': 845361, '4/23/20': 878645, '4/24/20': 912247, '4/25/20': 944231, '4/26/20': 971149, '4/27/20': 994204, '4/28/20': 1018950, '4/29/20': 1046653, '4/30/20': 1076323, '5/1/20': 1110394, '5/2/20': 1138570, '5/3/20': 1163016, '5/4/20': 1186303, '5/5/20': 1210960, '5/6/20': 1236037, '5/7/20': 1263804, '5/8/20': 1290687, '5/9/20': 1315641, '5/10/20': 1334685, '5/11/20': 1354141, '5/12/20': 1376823, '5/13/20': 1397811, '5/14/20': 1424941, '5/15/20': 1450023, '5/16/20': 1474187, '5/17/20': 1492437, '5/18/20': 1514460, '5/19/20': 1535031, '5/20/20': 1558734, '5/21/20': 1583861, '5/22/20': 1607949, '5/23/20': 1629327, '5/24/20': 1649389, '5/25/20': 1667937, '5/26/20': 1687244, '5/27/20': 1705634, '5/28/20': 1728330, '5/29/20': 1752689, '5/30/20': 1776531, '5/31/20': 1795916, '6/1/20': 1813448, '6/2/20': 1834439, '6/3/20': 1854437, '6/4/20': 1875699, '6/5/20': 1900769, '6/6/20': 1923078, '6/7/20': 1940659, '6/8/20': 1958249, '6/9/20': 1976464, '6/10/20': 1997257, '6/11/20': 2019935, '6/12/20': 2045136, '6/13/20': 2070461, '6/14/20': 2090161, '6/15/20': 2109973, '6/16/20': 2133693, '6/17/20': 2159245, '6/18/20': 2187044, '6/19/20': 2218476, '6/20/20': 2251036, '6/21/20': 2277433, '6/22/20': 2308050, '6/23/20': 2343205, '6/24/20': 2378183, '6/25/20': 2418044, '6/26/20': 2463274, '6/27/20': 2505748, '6/28/20': 2545202, '6/29/20': 2586113, '6/30/20': 2631972, '7/1/20': 2683112, '7/2/20': 2737612, '7/3/20': 2790743, '7/4/20': 2836480, '7/5/20': 2886342, '7/6/20': 2931382, '7/7/20': 2991455, '7/8/20': 3050023, '7/9/20': 3113250, '7/10/20': 3181074, '7/11/20': 3241100, '7/12/20': 3300020, '7/13/20': 3359307, '7/14/20': 3426658, '7/15/20': 3494087, '7/16/20': 3571354, '7/17/20': 3642859, '7/18/20': 3706333, '7/19/20': 3767978, '7/20/20': 3829433, '7/21/20': 3894014, '7/22/20': 3964927, '7/23/20': 4033597, '7/24/20': 4107256, '7/25/20': 4173596, '7/26/20': 4228323, '7/27/20': 4284833, '7/28/20': 4350802, '7/29/20': 4421427, '7/30/20': 4489400, '7/31/20': 4556331, '8/1/20': 4614540, '8/2/20': 4661823, '8/3/20': 4707373, '8/4/20': 4764691, '8/5/20': 4817408, '8/6/20': 4877251, '8/7/20': 4935332, '8/8/20': 4991268, '8/9/20': 5037976, '8/10/20': 5087617, '8/11/20': 5134340, '8/12/20': 5190563, '8/13/20': 5242056, '8/14/20': 5306406, '8/15/20': 5354024, '8/16/20': 5395799, '8/17/20': 5431045, '8/18/20': 5476283, '8/19/20': 5522710, '8/20/20': 5566781, '8/21/20': 5615216, '8/22/20': 5659837, '8/23/20': 5694522, '8/24/20': 5732164, '8/25/20': 5770344, '8/26/20': 5814518, '8/27/20': 5860493, '8/28/20': 5906565, '8/29/20': 5953475, '8/30/20': 5988770, '8/31/20': 6023072, '9/1/20': 6066374, '9/2/20': 6106154, '9/3/20': 6150016, '9/4/20': 6200518, '9/5/20': 6244970, '9/6/20': 6276365, '9/7/20': 6300622, '9/8/20': 6327009, '9/9/20': 6360212, '9/10/20': 6396100, '9/11/20': 6443652, '9/12/20': 6485123, '9/13/20': 6520122, '9/14/20': 6553652, '9/15/20': 6592584, '9/16/20': 6630604, '9/17/20': 6675338, '9/18/20': 6723933, '9/19/20': 6768119, '9/20/20': 6804814, '9/21/20': 6856884, '9/22/20': 6895918, '9/23/20': 6933548, '9/24/20': 6977658, '9/25/20': 7032712, '9/26/20': 7078089, '9/27/20': 7115008}, 'deaths': {'1/22/20': 0, '1/23/20': 0, '1/24/20': 0, '1/25/20': 0, '1/26/20': 0, '1/27/20': 0, '1/28/20': 0, '1/29/20': 0, '1/30/20': 0, '1/31/20': 0, '2/1/20': 0, '2/2/20': 0, '2/3/20': 0, '2/4/20': 0, '2/5/20': 0, '2/6/20': 0, '2/7/20': 0, '2/8/20': 0, '2/9/20': 0, '2/10/20': 0, '2/11/20': 0, '2/12/20': 0, '2/13/20': 0, '2/14/20': 0, '2/15/20': 0, '2/16/20': 0, '2/17/20': 0, '2/18/20': 0, '2/19/20': 0, '2/20/20': 0, '2/21/20': 0, '2/22/20': 0, '2/23/20': 0, '2/24/20': 0, '2/25/20': 0, '2/26/20': 0, '2/27/20': 0, '2/28/20': 0, '2/29/20': 1, '3/1/20': 1, '3/2/20': 6, '3/3/20': 7, '3/4/20': 11, '3/5/20': 12, '3/6/20': 14, '3/7/20': 17, '3/8/20': 21, '3/9/20': 22, '3/10/20': 28, '3/11/20': 33, '3/12/20': 43, '3/13/20': 51, '3/14/20': 58, '3/15/20': 70, '3/16/20': 97, '3/17/20': 132, '3/18/20': 191, '3/19/20': 265, '3/20/20': 364, '3/21/20': 463, '3/22/20': 573, '3/23/20': 762, '3/24/20': 1001, '3/25/20': 1325, '3/26/20': 1733, '3/27/20': 2253, '3/28/20': 2886, '3/29/20': 3472, '3/30/20': 4164, '3/31/20': 5249, '4/1/20': 6421, '4/2/20': 7924, '4/3/20': 9316, '4/4/20': 10839, '4/5/20': 12429, '4/6/20': 14199, '4/7/20': 16770, '4/8/20': 18916, '4/9/20': 21144, '4/10/20': 23362, '4/11/20': 25481, '4/12/20': 27294, '4/13/20': 29240, '4/14/20': 31695, '4/15/20': 34304, '4/16/20': 36480, '4/17/20': 38573, '4/18/20': 40533, '4/19/20': 42464, '4/20/20': 44650, '4/21/20': 47198, '4/22/20': 49632, '4/23/20': 52101, '4/24/20': 54255, '4/25/20': 55953, '4/26/20': 57282, '4/27/20': 58748, '4/28/20': 60989, '4/29/20': 63510, '4/30/20': 65832, '5/1/20': 67723, '5/2/20': 69415, '5/3/20': 70535, '5/4/20': 71868, '5/5/20': 74186, '5/6/20': 76550, '5/7/20': 78484, '5/8/20': 80231, '5/9/20': 81719, '5/10/20': 82612, '5/11/20': 83626, '5/12/20': 85253, '5/13/20': 87017, '5/14/20': 88800, '5/15/20': 90481, '5/16/20': 91697, '5/17/20': 92455, '5/18/20': 93627, '5/19/20': 95179, '5/20/20': 96705, '5/21/20': 97922, '5/22/20': 99166, '5/23/20': 100275, '5/24/20': 100897, '5/25/20': 101445, '5/26/20': 102107, '5/27/20': 103625, '5/28/20': 104803, '5/29/20': 105963, '5/30/20': 106926, '5/31/20': 107507, '6/1/20': 108283, '6/2/20': 109351, '6/3/20': 110358, '6/4/20': 111381, '6/5/20': 112295, '6/6/20': 112954, '6/7/20': 113392, '6/8/20': 113911, '6/9/20': 114861, '6/10/20': 115762, '6/11/20': 116633, '6/12/20': 117461, '6/13/20': 118220, '6/14/20': 118528, '6/15/20': 118922, '6/16/20': 119760, '6/17/20': 120504, '6/18/20': 121222, '6/19/20': 121892, '6/20/20': 122496, '6/21/20': 122781, '6/22/20': 123170, '6/23/20': 124017, '6/24/20': 124776, '6/25/20': 125327, '6/26/20': 125944, '6/27/20': 126448, '6/28/20': 126721, '6/29/20': 127098, '6/30/20': 127723, '7/1/20': 128417, '7/2/20': 129144, '7/3/20': 129804, '7/4/20': 130069, '7/5/20': 130357, '7/6/20': 130712, '7/7/20': 131934, '7/8/20': 132797, '7/9/20': 133800, '7/10/20': 134624, '7/11/20': 135314, '7/12/20': 135773, '7/13/20': 136140, '7/14/20': 137066, '7/15/20': 138034, '7/16/20': 138977, '7/17/20': 139907, '7/18/20': 140775, '7/19/20': 141222, '7/20/20': 141736, '7/21/20': 142843, '7/22/20': 144059, '7/23/20': 145153, '7/24/20': 146285, '7/25/20': 147184, '7/26/20': 147656, '7/27/20': 148776, '7/28/20': 150150, '7/29/20': 151582, '7/30/20': 152791, '7/31/20': 154034, '8/1/20': 155149, '8/2/20': 155552, '8/3/20': 156082, '8/4/20': 157460, '8/5/20': 158836, '8/6/20': 160089, '8/7/20': 161331, '8/8/20': 162408, '8/9/20': 162919, '8/10/20': 163446, '8/11/20': 164510, '8/12/20': 166015, '8/13/20': 167085, '8/14/20': 168423, '8/15/20': 169457, '8/16/20': 170028, '8/17/20': 170474, '8/18/20': 171799, '8/19/20': 173152, '8/20/20': 174231, '8/21/20': 175336, '8/22/20': 176318, '8/23/20': 176768, '8/24/20': 177210, '8/25/20': 178449, '8/26/20': 179674, '8/27/20': 180785, '8/28/20': 181756, '8/29/20': 182714, '8/30/20': 183024, '8/31/20': 183597, '9/1/20': 184664, '9/2/20': 185720, '9/3/20': 186790, '9/4/20': 187755, '9/5/20': 188538, '9/6/20': 188941, '9/7/20': 189208, '9/8/20': 189653, '9/9/20': 190859, '9/10/20': 191766, '9/11/20': 192979, '9/12/20': 193693, '9/13/20': 194071, '9/14/20': 194493, '9/15/20': 195781, '9/16/20': 196764, '9/17/20': 197634, '9/18/20': 198570, '9/19/20': 199282, '9/20/20': 199509, '9/21/20': 199865, '9/22/20': 200786, '9/23/20': 201884, '9/24/20': 202798, '9/25/20': 203750, '9/26/20': 204490, '9/27/20': 204756}, 'recovered': {'1/22/20': 0, '1/23/20': 0, '1/24/20': 0, '1/25/20': 0, '1/26/20': 0, '1/27/20': 0, '1/28/20': 0, '1/29/20': 0, '1/30/20': 0, '1/31/20': 0, '2/1/20': 0, '2/2/20': 0, '2/3/20': 0, '2/4/20': 0, '2/5/20': 0, '2/6/20': 0, '2/7/20': 0, '2/8/20': 0, '2/9/20': 3, '2/10/20': 3, '2/11/20': 3, '2/12/20': 3, '2/13/20': 3, '2/14/20': 3, '2/15/20': 3, '2/16/20': 3, '2/17/20': 3, '2/18/20': 3, '2/19/20': 3, '2/20/20': 3, '2/21/20': 5, '2/22/20': 5, '2/23/20': 5, '2/24/20': 5, '2/25/20': 6, '2/26/20': 6, '2/27/20': 6, '2/28/20': 7, '2/29/20': 7, '3/1/20': 7, '3/2/20': 7, '3/3/20': 7, '3/4/20': 7, '3/5/20': 7, '3/6/20': 7, '3/7/20': 7, '3/8/20': 7, '3/9/20': 7, '3/10/20': 8, '3/11/20': 8, '3/12/20': 12, '3/13/20': 12, '3/14/20': 12, '3/15/20': 12, '3/16/20': 17, '3/17/20': 17, '3/18/20': 105, '3/19/20': 121, '3/20/20': 147, '3/21/20': 176, '3/22/20': 178, '3/23/20': 178, '3/24/20': 348, '3/25/20': 361, '3/26/20': 681, '3/27/20': 869, '3/28/20': 1072, '3/29/20': 2665, '3/30/20': 5644, '3/31/20': 7024, '4/1/20': 8474, '4/2/20': 9001, '4/3/20': 9707, '4/4/20': 14652, '4/5/20': 17448, '4/6/20': 19581, '4/7/20': 21763, '4/8/20': 23559, '4/9/20': 25410, '4/10/20': 28790, '4/11/20': 31270, '4/12/20': 32988, '4/13/20': 43482, '4/14/20': 47763, '4/15/20': 52096, '4/16/20': 54703, '4/17/20': 58545, '4/18/20': 64840, '4/19/20': 70337, '4/20/20': 72329, '4/21/20': 75204, '4/22/20': 77366, '4/23/20': 80203, '4/24/20': 99079, '4/25/20': 100372, '4/26/20': 106988, '4/27/20': 111424, '4/28/20': 115936, '4/29/20': 120720, '4/30/20': 153947, '5/1/20': 164015, '5/2/20': 175382, '5/3/20': 180152, '5/4/20': 187180, '5/5/20': 189791, '5/6/20': 189910, '5/7/20': 195036, '5/8/20': 198993, '5/9/20': 212534, '5/10/20': 216169, '5/11/20': 232733, '5/12/20': 230287, '5/13/20': 243430, '5/14/20': 246414, '5/15/20': 250747, '5/16/20': 268376, '5/17/20': 272265, '5/18/20': 283178, '5/19/20': 289392, '5/20/20': 294312, '5/21/20': 298418, '5/22/20': 350135, '5/23/20': 361239, '5/24/20': 366736, '5/25/20': 379157, '5/26/20': 384902, '5/27/20': 391508, '5/28/20': 399991, '5/29/20': 406446, '5/30/20': 416461, '5/31/20': 444758, '6/1/20': 458231, '6/2/20': 463868, '6/3/20': 479258, '6/4/20': 485002, '6/5/20': 491706, '6/6/20': 500849, '6/7/20': 506367, '6/8/20': 518522, '6/9/20': 524855, '6/10/20': 533504, '6/11/20': 540292, '6/12/20': 547386, '6/13/20': 556606, '6/14/20': 561816, '6/15/20': 576334, '6/16/20': 583503, '6/17/20': 592191, '6/18/20': 599115, '6/19/20': 606715, '6/20/20': 617460, '6/21/20': 622133, '6/22/20': 640198, '6/23/20': 647548, '6/24/20': 656161, '6/25/20': 663562, '6/26/20': 670809, '6/27/20': 679308, '6/28/20': 685164, '6/29/20': 705203, '6/30/20': 720631, '7/1/20': 729994, '7/2/20': 781970, '7/3/20': 790404, '7/4/20': 894325, '7/5/20': 906763, '7/6/20': 924148, '7/7/20': 936476, '7/8/20': 953462, '7/9/20': 969111, '7/10/20': 983185, '7/11/20': 995576, '7/12/20': 1006326, '7/13/20': 1031939, '7/14/20': 1049098, '7/15/20': 1075882, '7/16/20': 1090645, '7/17/20': 1107204, '7/18/20': 1122720, '7/19/20': 1131121, '7/20/20': 1160087, '7/21/20': 1182018, '7/22/20': 1210849, '7/23/20': 1233269, '7/24/20': 1261624, '7/25/20': 1279414, '7/26/20': 1297863, '7/27/20': 1325804, '7/28/20': 1355363, '7/29/20': 1389425, '7/30/20': 1414155, '7/31/20': 1438160, '8/1/20': 1461885, '8/2/20': 1468689, '8/3/20': 1513446, '8/4/20': 1528979, '8/5/20': 1577851, '8/6/20': 1598624, '8/7/20': 1623870, '8/8/20': 1643118, '8/9/20': 1656864, '8/10/20': 1670755, '8/11/20': 1714960, '8/12/20': 1753760, '8/13/20': 1774648, '8/14/20': 1796326, '8/15/20': 1818527, '8/16/20': 1833067, '8/17/20': 1865580, '8/18/20': 1898159, '8/19/20': 1925049, '8/20/20': 1947035, '8/21/20': 1965056, '8/22/20': 1985484, '8/23/20': 1997761, '8/24/20': 2020774, '8/25/20': 2053699, '8/26/20': 2084465, '8/27/20': 2101326, '8/28/20': 2118367, '8/29/20': 2140614, '8/30/20': 2153939, '8/31/20': 2184825, '9/1/20': 2202663, '9/2/20': 2231757, '9/3/20': 2266957, '9/4/20': 2283454, '9/5/20': 2302187, '9/6/20': 2315995, '9/7/20': 2333551, '9/8/20': 2359111, '9/9/20': 2387479, '9/10/20': 2403511, '9/11/20': 2417878, '9/12/20': 2434658, '9/13/20': 2451406, '9/14/20': 2474570, '9/15/20': 2495127, '9/16/20': 2525573, '9/17/20': 2540334, '9/18/20': 2556465, '9/19/20': 2577446, '9/20/20': 2590671, '9/21/20': 2615949, '9/22/20': 2646959, '9/23/20': 2670256, '9/24/20': 2710183, '9/25/20': 2727335, '9/26/20': 2750459, '9/27/20': 2766280}}}\n",
            "{'1/22/20': 1, '1/23/20': 1, '1/24/20': 2, '1/25/20': 2, '1/26/20': 5, '1/27/20': 5, '1/28/20': 5, '1/29/20': 6, '1/30/20': 6, '1/31/20': 8, '2/1/20': 8, '2/2/20': 8, '2/3/20': 11, '2/4/20': 11, '2/5/20': 11, '2/6/20': 12, '2/7/20': 12, '2/8/20': 12, '2/9/20': 12, '2/10/20': 12, '2/11/20': 13, '2/12/20': 13, '2/13/20': 14, '2/14/20': 14, '2/15/20': 14, '2/16/20': 14, '2/17/20': 14, '2/18/20': 14, '2/19/20': 14, '2/20/20': 14, '2/21/20': 16, '2/22/20': 16, '2/23/20': 16, '2/24/20': 16, '2/25/20': 16, '2/26/20': 16, '2/27/20': 17, '2/28/20': 17, '2/29/20': 25, '3/1/20': 32, '3/2/20': 54, '3/3/20': 74, '3/4/20': 107, '3/5/20': 184, '3/6/20': 237, '3/7/20': 403, '3/8/20': 519, '3/9/20': 589, '3/10/20': 782, '3/11/20': 1145, '3/12/20': 1584, '3/13/20': 2214, '3/14/20': 2971, '3/15/20': 3211, '3/16/20': 4679, '3/17/20': 6513, '3/18/20': 9153, '3/19/20': 13643, '3/20/20': 20007, '3/21/20': 25991, '3/22/20': 34804, '3/23/20': 45973, '3/24/20': 56571, '3/25/20': 68583, '3/26/20': 86495, '3/27/20': 105103, '3/28/20': 124701, '3/29/20': 143672, '3/30/20': 165615, '3/31/20': 192048, '4/1/20': 217730, '4/2/20': 248186, '4/3/20': 280173, '4/4/20': 313154, '4/5/20': 341245, '4/6/20': 371481, '4/7/20': 402917, '4/8/20': 434886, '4/9/20': 469478, '4/10/20': 503006, '4/11/20': 532447, '4/12/20': 559318, '4/13/20': 585240, '4/14/20': 613887, '4/15/20': 643833, '4/16/20': 675261, '4/17/20': 708179, '4/18/20': 735960, '4/19/20': 761620, '4/20/20': 790121, '4/21/20': 816100, '4/22/20': 845361, '4/23/20': 878645, '4/24/20': 912247, '4/25/20': 944231, '4/26/20': 971149, '4/27/20': 994204, '4/28/20': 1018950, '4/29/20': 1046653, '4/30/20': 1076323, '5/1/20': 1110394, '5/2/20': 1138570, '5/3/20': 1163016, '5/4/20': 1186303, '5/5/20': 1210960, '5/6/20': 1236037, '5/7/20': 1263804, '5/8/20': 1290687, '5/9/20': 1315641, '5/10/20': 1334685, '5/11/20': 1354141, '5/12/20': 1376823, '5/13/20': 1397811, '5/14/20': 1424941, '5/15/20': 1450023, '5/16/20': 1474187, '5/17/20': 1492437, '5/18/20': 1514460, '5/19/20': 1535031, '5/20/20': 1558734, '5/21/20': 1583861, '5/22/20': 1607949, '5/23/20': 1629327, '5/24/20': 1649389, '5/25/20': 1667937, '5/26/20': 1687244, '5/27/20': 1705634, '5/28/20': 1728330, '5/29/20': 1752689, '5/30/20': 1776531, '5/31/20': 1795916, '6/1/20': 1813448, '6/2/20': 1834439, '6/3/20': 1854437, '6/4/20': 1875699, '6/5/20': 1900769, '6/6/20': 1923078, '6/7/20': 1940659, '6/8/20': 1958249, '6/9/20': 1976464, '6/10/20': 1997257, '6/11/20': 2019935, '6/12/20': 2045136, '6/13/20': 2070461, '6/14/20': 2090161, '6/15/20': 2109973, '6/16/20': 2133693, '6/17/20': 2159245, '6/18/20': 2187044, '6/19/20': 2218476, '6/20/20': 2251036, '6/21/20': 2277433, '6/22/20': 2308050, '6/23/20': 2343205, '6/24/20': 2378183, '6/25/20': 2418044, '6/26/20': 2463274, '6/27/20': 2505748, '6/28/20': 2545202, '6/29/20': 2586113, '6/30/20': 2631972, '7/1/20': 2683112, '7/2/20': 2737612, '7/3/20': 2790743, '7/4/20': 2836480, '7/5/20': 2886342, '7/6/20': 2931382, '7/7/20': 2991455, '7/8/20': 3050023, '7/9/20': 3113250, '7/10/20': 3181074, '7/11/20': 3241100, '7/12/20': 3300020, '7/13/20': 3359307, '7/14/20': 3426658, '7/15/20': 3494087, '7/16/20': 3571354, '7/17/20': 3642859, '7/18/20': 3706333, '7/19/20': 3767978, '7/20/20': 3829433, '7/21/20': 3894014, '7/22/20': 3964927, '7/23/20': 4033597, '7/24/20': 4107256, '7/25/20': 4173596, '7/26/20': 4228323, '7/27/20': 4284833, '7/28/20': 4350802, '7/29/20': 4421427, '7/30/20': 4489400, '7/31/20': 4556331, '8/1/20': 4614540, '8/2/20': 4661823, '8/3/20': 4707373, '8/4/20': 4764691, '8/5/20': 4817408, '8/6/20': 4877251, '8/7/20': 4935332, '8/8/20': 4991268, '8/9/20': 5037976, '8/10/20': 5087617, '8/11/20': 5134340, '8/12/20': 5190563, '8/13/20': 5242056, '8/14/20': 5306406, '8/15/20': 5354024, '8/16/20': 5395799, '8/17/20': 5431045, '8/18/20': 5476283, '8/19/20': 5522710, '8/20/20': 5566781, '8/21/20': 5615216, '8/22/20': 5659837, '8/23/20': 5694522, '8/24/20': 5732164, '8/25/20': 5770344, '8/26/20': 5814518, '8/27/20': 5860493, '8/28/20': 5906565, '8/29/20': 5953475, '8/30/20': 5988770, '8/31/20': 6023072, '9/1/20': 6066374, '9/2/20': 6106154, '9/3/20': 6150016, '9/4/20': 6200518, '9/5/20': 6244970, '9/6/20': 6276365, '9/7/20': 6300622, '9/8/20': 6327009, '9/9/20': 6360212, '9/10/20': 6396100, '9/11/20': 6443652, '9/12/20': 6485123, '9/13/20': 6520122, '9/14/20': 6553652, '9/15/20': 6592584, '9/16/20': 6630604, '9/17/20': 6675338, '9/18/20': 6723933, '9/19/20': 6768119, '9/20/20': 6804814, '9/21/20': 6856884, '9/22/20': 6895918, '9/23/20': 6933548, '9/24/20': 6977658, '9/25/20': 7032712, '9/26/20': 7078089, '9/27/20': 7115008}\n"
          ],
          "name": "stdout"
        },
        {
          "output_type": "execute_result",
          "data": {
            "text/plain": [
              "[<matplotlib.lines.Line2D at 0x7fd27c3f5f28>]"
            ]
          },
          "metadata": {
            "tags": []
          },
          "execution_count": 70
        },
        {
          "output_type": "display_data",
          "data": {
            "image/png": "[encoded data removed]",
            "text/plain": [
              "<Figure size 432x288 with 1 Axes>"
            ]
          },
          "metadata": {
            "tags": [],
            "needs_background": "light"
          }
        }
      ]
    },
    {
      "cell_type": "markdown",
      "metadata": {
        "id": "grmy55FIRK5M"
      },
      "source": [
        "**3.5) **Your turn. Pick an endpoint from disease.sh that returns the NYT's timeseries data for a two different US states. Make a GET request to the API and plot the data for each state."
      ]
    },
    {
      "cell_type": "code",
      "metadata": {
        "id": "GQh9jMXOVAgZ"
      },
      "source": [
        "#### YOUR CODE HERE ####"
      ],
      "execution_count": null,
      "outputs": []
    },
    {
      "cell_type": "markdown",
      "metadata": {
        "id": "kdLDymh-Sn_j"
      },
      "source": [
        "# Project\n",
        "\n",
        "The offline work this weeks involves building a web scraper or using an API to collect data. \n",
        "\n",
        "**Web scraper**:\n",
        "Pick a website that has a simple structure (think lists that contain data like Zillow or Monster). Scrape the site and load the data into a dataframe. Use some of pandas built in tools to do a basic analysis of the data. Finally, use matplotlib to create some visualizations.\n",
        "\n",
        "http://toscrape.com/\n",
        "\n",
        "**API**:\n",
        "Find an API you think is interesting and gather its data using the requests library. It could be a public API or one requiring some sort of auth. Use some of pandas built in tools to do a basic analysis of the data. Finally, use matplotlib to create some visualizations.\n",
        "\n",
        "https://github.com/public-apis/public-apis\n",
        "\n",
        "Both of these options require a bit of research to find a suitable API/site. "
      ]
    }
  ]
}