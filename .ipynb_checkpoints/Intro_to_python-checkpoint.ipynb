{
 "cells": [
  {
   "cell_type": "markdown",
   "metadata": {
    "colab_type": "text",
    "id": "bEU6BvTDoZSn"
   },
   "source": [
    "# Week 0: Intro to Python\n",
    "\n"
   ]
  },
  {
   "cell_type": "markdown",
   "metadata": {
    "colab_type": "text",
    "id": "FYZLGXbzpRUX"
   },
   "source": [
    "# **Syntax, Variables, and Numbers**"
   ]
  },
  {
   "cell_type": "markdown",
   "metadata": {
    "colab_type": "text",
    "id": "rATTCfH51Lxl"
   },
   "source": [
    "The following is a basic example of variable declaration and computation. Take a look at it, then try the exercise below."
   ]
  },
  {
   "cell_type": "code",
   "execution_count": 0,
   "metadata": {
    "colab": {
     "base_uri": "https://localhost:8080/",
     "height": 34
    },
    "colab_type": "code",
    "id": "5Vo3Y8PUoyyF",
    "outputId": "633a8340-0ae9-425e-95e8-25f6dcf44b83"
   },
   "outputs": [
    {
     "name": "stdout",
     "output_type": "stream",
     "text": [
      "30\n"
     ]
    }
   ],
   "source": [
    "pandas=10\n",
    "zebras=20\n",
    "\n",
    "total_animals_in_zoo=pandas+zebras\n",
    "\n",
    "print(total_animals_in_zoo)"
   ]
  },
  {
   "cell_type": "markdown",
   "metadata": {
    "colab_type": "text",
    "id": "gJ8Pt7qYp220"
   },
   "source": [
    "**1. Using the pre-declared variables, calculate the area of a circle, and assign it to a new variable named 'area'. Print 'area' to the console.**"
   ]
  },
  {
   "cell_type": "code",
   "execution_count": 0,
   "metadata": {
    "colab": {},
    "colab_type": "code",
    "id": "eDKL43lYqkaC"
   },
   "outputs": [],
   "source": [
    "pi=3.14159 #Approx.\n",
    "diameter=10\n",
    "\n",
    "######YOUR CODE HERE####\n",
    "\n",
    "\n",
    "\n",
    "\n",
    "\n",
    "########################"
   ]
  },
  {
   "cell_type": "markdown",
   "metadata": {
    "colab_type": "text",
    "id": "InXQ0HzBrsl-"
   },
   "source": [
    "The following data structure is a list. A list can store any type of data structure, even other lists. In this example, I want to switch the values of lists 'a' and 'b'. Take a look at both methods, try to figure out why one works and the other doesn't."
   ]
  },
  {
   "cell_type": "code",
   "execution_count": 0,
   "metadata": {
    "colab": {
     "base_uri": "https://localhost:8080/",
     "height": 119
    },
    "colab_type": "code",
    "id": "Cw_WiY0Jr3bX",
    "outputId": "3215c8c3-e908-4637-c4cd-f80adcd63ead"
   },
   "outputs": [
    {
     "name": "stdout",
     "output_type": "stream",
     "text": [
      "Method 1\n",
      "['cat', 'dog', 'fish']\n",
      "['cat', 'dog', 'fish']\n",
      "Method 2\n",
      "['cat', 'dog', 'fish']\n",
      "[1, 2, 3]\n"
     ]
    }
   ],
   "source": [
    "\n",
    "\n",
    "#####Method 1########\n",
    "a = [1, 2, 3]\n",
    "b = ['cat', 'dog', 'fish']\n",
    "\n",
    "a=b\n",
    "b=a\n",
    "\n",
    "print('Method 1')\n",
    "print(a)\n",
    "print(b)\n",
    "\n",
    "\n",
    "#####Method 2########\n",
    "a = [1, 2, 3]\n",
    "b = ['cat', 'dog', 'fish']\n",
    "\n",
    "temp = a\n",
    "a = b\n",
    "b = temp\n",
    "\n",
    "print('Method 2')\n",
    "print(a)\n",
    "print(b)"
   ]
  },
  {
   "cell_type": "markdown",
   "metadata": {
    "colab_type": "text",
    "id": "3Zg5625DsU13"
   },
   "source": [
    "**2. Using temporary variables, switch the following data so that it makes sense. Print the new variables to the console.**"
   ]
  },
  {
   "cell_type": "code",
   "execution_count": 0,
   "metadata": {
    "colab": {},
    "colab_type": "code",
    "id": "Re-1HE8sskCQ"
   },
   "outputs": [],
   "source": [
    "dog_legs=0\n",
    "human_legs=4\n",
    "goldfish_legs=2\n",
    "\n",
    "######YOUR CODE HERE###########\n"
   ]
  },
  {
   "cell_type": "markdown",
   "metadata": {
    "colab_type": "text",
    "id": "fYlB5kMQtmGY"
   },
   "source": [
    "You should now have a good grasp on variables. Let's move onto logic and other syntax."
   ]
  },
  {
   "cell_type": "markdown",
   "metadata": {
    "colab_type": "text",
    "id": "UiMW2D1AwBgy"
   },
   "source": [
    "#**Functions**\n",
    "Fucntions allow us to execute the same lines of code, and therefore logic, multiple times in a program."
   ]
  },
  {
   "cell_type": "code",
   "execution_count": 0,
   "metadata": {
    "colab": {
     "base_uri": "https://localhost:8080/",
     "height": 34
    },
    "colab_type": "code",
    "id": "a6FnzUokv5mZ",
    "outputId": "7d60159c-bc66-4bd4-c1cd-94dd41e6d7ba"
   },
   "outputs": [
    {
     "name": "stdout",
     "output_type": "stream",
     "text": [
      "4.33\n"
     ]
    }
   ],
   "source": [
    "def round_to_two_places(num):\n",
    "  \n",
    "  return round(num, 2)\n",
    "  \n",
    "  \n",
    "print(round_to_two_places(4.325456463))"
   ]
  },
  {
   "cell_type": "markdown",
   "metadata": {
    "colab_type": "text",
    "id": "nQAU4fuXwtPm"
   },
   "source": [
    "You'll notice a few things here\n",
    "\n",
    "\n",
    "1.   The keyword 'def' is used to define fucntions\n",
    "2.   The item takes in an argument 'num'\n",
    "3.   The function has a return statement\n",
    "\n",
    "When I call the function 'round_to_two_places' in the print statement, the argument '4.325456463' is passed into my function and I return the truncated value.\n",
    "\n"
   ]
  },
  {
   "cell_type": "markdown",
   "metadata": {
    "colab_type": "text",
    "id": "QtMBR3WmxqE_"
   },
   "source": [
    "**3. Now write a function that will round a number to 'n' digits. Test your function using a print statement. Make sure the print statement is outside of your function. **"
   ]
  },
  {
   "cell_type": "code",
   "execution_count": 0,
   "metadata": {
    "colab": {},
    "colab_type": "code",
    "id": "Fsv8Iz7ZxaQe"
   },
   "outputs": [],
   "source": [
    "def round_to_n_places('''Hint: the arugment can take in two values seperated by a comma'''):\n",
    "  #####Your Code Here############\n",
    "  \n",
    "  \n",
    "  \n",
    "  \n",
    "  "
   ]
  },
  {
   "cell_type": "markdown",
   "metadata": {
    "colab_type": "text",
    "id": "WEvkja1hyHg_"
   },
   "source": [
    "The round function is a function built into the Python library. Here are some other useful built in functions with examples. You've already seen the print() function used. I am wrapping the other built in functions with a print statement, so they print to the console."
   ]
  },
  {
   "cell_type": "code",
   "execution_count": 0,
   "metadata": {
    "colab": {
     "base_uri": "https://localhost:8080/",
     "height": 134
    },
    "colab_type": "code",
    "id": "Cwk3i8G8xpZk",
    "outputId": "a2a30de1-95fe-4fb6-cf9f-d8a7d96ea170"
   },
   "outputs": [
    {
     "name": "stdout",
     "output_type": "stream",
     "text": [
      "cat\n",
      "10\n",
      "-543\n",
      "645365\n",
      "656743\n",
      "3\n",
      "[-543, 1, 3, 4, 23, 31, 324, 435, 5435, 5665, 645365]\n"
     ]
    }
   ],
   "source": [
    "a=[1,5435,324,3,645365,23,4,5665,435,31, -543]\n",
    "b=-10\n",
    "c='cat'\n",
    "\n",
    "print(c)\n",
    "print(abs(b)) #absolute value\n",
    "print(min(a)) #min value\n",
    "print(max(a)) #max value\n",
    "print(sum(a)) #sum\n",
    "print(len(c)) #length of a string\n",
    "print(sorted(a)) #sorts a list"
   ]
  },
  {
   "cell_type": "markdown",
   "metadata": {
    "colab_type": "text",
    "id": "SntPfZea0BcG"
   },
   "source": [
    "**4. Write a function that takes in two lists as arguments. Your function must first find the max of both lists. It must return the product ('*') of the maxes. Test your function by printing to the console.**"
   ]
  },
  {
   "cell_type": "code",
   "execution_count": 0,
   "metadata": {
    "colab": {},
    "colab_type": "code",
    "id": "Tx9vBKh-0BKc"
   },
   "outputs": [],
   "source": [
    "a=[3243,645645,54346]\n",
    "b[7,3,2\n",
    " \n",
    " \n",
    "def product_of_maxes('''arguments here'''):\n",
    "  ########YOUR CODE HERE#############"
   ]
  },
  {
   "cell_type": "markdown",
   "metadata": {
    "colab_type": "text",
    "id": "HIqS4Vmk5CiD"
   },
   "source": [
    "#**Booleans and Conditionals**\n",
    "Logic, logic, logic.\n",
    "\n"
   ]
  },
  {
   "cell_type": "markdown",
   "metadata": {
    "colab_type": "text",
    "id": "X2An5mXF63CH"
   },
   "source": [
    "In Python, a logical statement can only ever evaluate to two values, True or False. (Note: For equivalencies use the '==' operator, and not '=')"
   ]
  },
  {
   "cell_type": "code",
   "execution_count": 0,
   "metadata": {
    "colab": {
     "base_uri": "https://localhost:8080/",
     "height": 67
    },
    "colab_type": "code",
    "id": "GkI62lNX5GGs",
    "outputId": "3b69caf0-9c64-4994-b068-4ceae01d1668"
   },
   "outputs": [
    {
     "name": "stdout",
     "output_type": "stream",
     "text": [
      "False\n",
      "True\n",
      "False\n"
     ]
    }
   ],
   "source": [
    "print(3==10)\n",
    "print(len('abc')==3)\n",
    "print(max([10,40,53]) < 25)"
   ]
  },
  {
   "cell_type": "markdown",
   "metadata": {
    "colab_type": "text",
    "id": "Xp0kjR957m7U"
   },
   "source": [
    "**5. Using print statements, and some built-in functions from earlier, write some code that either evaulates to True or False.**"
   ]
  },
  {
   "cell_type": "code",
   "execution_count": 0,
   "metadata": {
    "colab": {},
    "colab_type": "code",
    "id": "6L1rv10Q7waD"
   },
   "outputs": [],
   "source": [
    "#####YOUR CODE HERE###########\n",
    "\n"
   ]
  },
  {
   "cell_type": "markdown",
   "metadata": {
    "colab_type": "text",
    "id": "ku5yRHEE8Idl"
   },
   "source": [
    "We use conditional statements to evaluate logic in a program and to dicatate program flow."
   ]
  },
  {
   "cell_type": "code",
   "execution_count": 0,
   "metadata": {
    "colab": {
     "base_uri": "https://localhost:8080/",
     "height": 34
    },
    "colab_type": "code",
    "id": "elh1K2PY8RGE",
    "outputId": "351de3ab-2be9-429b-ab42-af1769fe8bbf"
   },
   "outputs": [
    {
     "name": "stdout",
     "output_type": "stream",
     "text": [
      "(20, 'is greater than', 10)\n"
     ]
    }
   ],
   "source": [
    "a=10\n",
    "b=20\n",
    "\n",
    "if(a>b):\n",
    "  print(a, 'is greater than', b)\n",
    "elif(a<b):\n",
    "  print(b, 'is greater than', a)\n",
    "else:\n",
    "  print(\"they're equal\")"
   ]
  },
  {
   "cell_type": "markdown",
   "metadata": {
    "colab_type": "text",
    "id": "sBxjlyj_9yFj"
   },
   "source": [
    "Logic by itself is great, buy most times we want it in a function. Let's combine the two concepts. You'll also see examples of the 'and' and 'or' keywords. They are equivalent to their meaning in natural langauge. You'll also notice sometimes functions don't return anything. "
   ]
  },
  {
   "cell_type": "code",
   "execution_count": 0,
   "metadata": {
    "colab": {
     "base_uri": "https://localhost:8080/",
     "height": 101
    },
    "colab_type": "code",
    "id": "5_ZzrXiF94AC",
    "outputId": "2b035f96-87d4-4e8a-d8d8-cb052044a468"
   },
   "outputs": [
    {
     "name": "stdout",
     "output_type": "stream",
     "text": [
      "jfkdla;s\n",
      "abcfdsafdasg\n",
      "None\n",
      "Can I make cake?\n",
      "True\n"
     ]
    }
   ],
   "source": [
    "def longer_string(string1, string2):\n",
    "  \n",
    "  if(len(string1) > len(string2)):\n",
    "    return string1\n",
    "  elif(len(string1) < len(string2)):\n",
    "    return string2\n",
    "  else:\n",
    "    return\n",
    "  \n",
    "print(longer_string('abc', 'jfkdla;s'))\n",
    "print(longer_string('abcfdsafdasg', 'jfkdla;s'))\n",
    "print(longer_string('abc', 'def'))\n",
    "\n",
    "\n",
    "def can_make_cake(eggs, flour, milk, almond_milk):\n",
    "  return (milk or almond_milk) and flour and eggs > 5\n",
    "\n",
    "\n",
    "print('Can I make cake?')\n",
    "print(can_make_cake(10, True, False, True))"
   ]
  },
  {
   "cell_type": "markdown",
   "metadata": {
    "colab_type": "text",
    "id": "JFfvJsGg51dA"
   },
   "source": [
    "This is a good time to talk about the modulus operator ('%'). The modulus operator (mod) gives the remainder when you divide two numbers. For example 10%3 is 1, 20%7 is 6, and 10%2 is 0. Becuase of this, mod is a great tool to determine whether or not a number is even or odd. If you take any odd number, n, and % 2, you'll get 1. If you take any even number, and % 2, you'll get 0."
   ]
  },
  {
   "cell_type": "markdown",
   "metadata": {
    "colab_type": "text",
    "id": "jCYh07Xy_kZQ"
   },
   "source": [
    "Write a function to determine if the absolute value of the minimum in a list is odd. If it is odd, print 'odd' to the console. Else, print 'even' to the console"
   ]
  },
  {
   "cell_type": "code",
   "execution_count": 0,
   "metadata": {
    "colab": {},
    "colab_type": "code",
    "id": "xDDp926aBbvH"
   },
   "outputs": [],
   "source": [
    "a = [-35423,-5432654,-352435,53252]\n",
    "\n",
    "\n",
    "def abs_of_min_is_odd('''arguments here'''):\n",
    "  ###Your logic here###\n",
    "  \n",
    "  "
   ]
  },
  {
   "cell_type": "markdown",
   "metadata": {
    "colab_type": "text",
    "id": "3jPpullAEYVd"
   },
   "source": [
    "# **Lists**\n",
    "An important thing to remember is that lists are indexed starting a 0. Other languages (stupid ones) like MATLAB are indexed starting at 1. Engineers...groan."
   ]
  },
  {
   "cell_type": "code",
   "execution_count": 0,
   "metadata": {
    "colab": {
     "base_uri": "https://localhost:8080/",
     "height": 50
    },
    "colab_type": "code",
    "id": "4NfEI09eE3qm",
    "outputId": "200e56a1-83cf-4ec4-e853-026060af1265"
   },
   "outputs": [
    {
     "name": "stdout",
     "output_type": "stream",
     "text": [
      "c\n",
      "6\n"
     ]
    }
   ],
   "source": [
    "def select_third_element(my_list):\n",
    "  if(len(my_list) < 3):\n",
    "    return None\n",
    "  else:\n",
    "    return my_list[2] #remember index 0, so third element is index 2\n",
    "  \n",
    "  \n",
    "foo = ['a', 'b', 'c', 'd']\n",
    "print(select_third_element(foo))\n",
    "\n",
    "list1=[1,2,3]\n",
    "list2=[4,5,6]\n",
    "\n",
    "list_of_lists=[list1,list2]\n",
    "\n",
    "print(list_of_lists[1][2])"
   ]
  },
  {
   "cell_type": "markdown",
   "metadata": {
    "colab_type": "text",
    "id": "oTG5nTSZF24j"
   },
   "source": [
    "You are analyzing sports teams.  Members of each team are stored in a list. The Coach is the first name in the list, the captain is the second name in the list, and other players are listed after that. \n",
    "These lists are stored in another list, which starts with the best team and proceeds through the list to the worst team last.  Complete the function below to select the **captain** of the worst team and print to console."
   ]
  },
  {
   "cell_type": "code",
   "execution_count": 0,
   "metadata": {
    "colab": {},
    "colab_type": "code",
    "id": "DHgT8A6BF47C"
   },
   "outputs": [],
   "source": [
    "real_madrid=['zidane', 'ramos', 'marcelo']\n",
    "barcelona=['valverde', 'messi', 'pique']\n",
    "\n",
    "teams = [real_madrid, barcelona]\n",
    "\n",
    "def losing_team_captain(team_list):\n",
    "  #######Your code here###########\n",
    "  "
   ]
  },
  {
   "cell_type": "markdown",
   "metadata": {
    "colab_type": "text",
    "id": "X5MZcvZ9F23P"
   },
   "source": [
    "The next iteration of Mario Kart will feature an extra-infuriating new item, the *Purple Shell*. When used, it warps the last place racer into first place and the first place racer into last place. Complete the function below to implement the Purple Shell's effect. Pass the list 'standings' into your function and print the updated standings to the console. (Hint: Keep in mind the concept of temporary variables from a previous lesson)"
   ]
  },
  {
   "cell_type": "code",
   "execution_count": 0,
   "metadata": {
    "colab": {},
    "colab_type": "code",
    "id": "cE8a511BHfhs"
   },
   "outputs": [],
   "source": [
    "standings=['mario', 'bowser', 'luigi','peach']\n",
    "\n",
    "def purple_shell(racers):\n",
    "  #######YOUR CODE HERE##########\n",
    "\n",
    "\n",
    "\n",
    "\n",
    "\n"
   ]
  },
  {
   "cell_type": "markdown",
   "metadata": {
    "colab_type": "text",
    "id": "mX4lfWnZI5Y3"
   },
   "source": [
    "# Loops\n",
    "loop,loop,loop,loop,loop,loop,loop,loop,loop,loop,loop,loop,loop,loop,loop,loop,loop,loop,loop,loop,loop,loop,loop,loop,loop,loop,loop,loop,loop,loop,loop,loop,loop,loop,loop,loop,loop,loop,loop,loop,loop,loop,loop,loop,loop,loop,loop,loop,loop,loop,loop,loop,loop,loop,loop,loop,loop,loop,loop,loop,loop,loop,loop,loop,loop,loop,loop,loop,loop,loop,loop,loop,loop,loop,loop,loop,loop,loop,loop,loop,loop,loop,loop,loop,loop,loop,loop,loop,loop,loop,loop,loop,loop,"
   ]
  },
  {
   "cell_type": "code",
   "execution_count": 0,
   "metadata": {
    "colab": {},
    "colab_type": "code",
    "id": "Cx0rn8g4JBUc"
   },
   "outputs": [],
   "source": []
  },
  {
   "cell_type": "markdown",
   "metadata": {
    "colab_type": "text",
    "id": "z6L6RpWyJsZ2"
   },
   "source": [
    "There are a few types of loops. We'll focus on for loops and while loops here."
   ]
  },
  {
   "cell_type": "code",
   "execution_count": 0,
   "metadata": {
    "colab": {
     "base_uri": "https://localhost:8080/",
     "height": 302
    },
    "colab_type": "code",
    "id": "uxtqsksmKEI3",
    "outputId": "84114774-c9e2-4d78-b933-496d7df0b264"
   },
   "outputs": [
    {
     "name": "stdout",
     "output_type": "stream",
     "text": [
      "True\n",
      "False\n",
      "1\n",
      "2\n",
      "3\n",
      "4\n",
      "5\n",
      "6\n",
      "7\n",
      "8\n",
      "9\n",
      "10\n",
      "6\n",
      "7\n",
      "8\n",
      "9\n",
      "10\n"
     ]
    }
   ],
   "source": [
    "def list_contains_seven(my_list):\n",
    "  for element in my_list:\n",
    "    if element ==7:\n",
    "      return True\n",
    "  return False\n",
    "\n",
    "\n",
    "\n",
    "print(list_contains_seven([6,14,5,7]))\n",
    "print(list_contains_seven([6,14,5,9]))\n",
    "\n",
    "\n",
    "def count_to_10(num):\n",
    "  \n",
    "  while(num<10):\n",
    "    num=num+1\n",
    "    print(num)\n",
    "    \n",
    "count_to_10(0)\n",
    "count_to_10(5)\n",
    "count_to_10(11)"
   ]
  },
  {
   "cell_type": "markdown",
   "metadata": {
    "colab_type": "text",
    "id": "aFQYg_a2Lc0Q"
   },
   "source": [
    "Your lucky number is 7. You really like 7. You even like numbers divisble by 7 (do I smell a modulus operator?). Write a function that counts the frequency of numbers divisible by 7 in a list, and print that frequency to the console."
   ]
  },
  {
   "cell_type": "code",
   "execution_count": 0,
   "metadata": {
    "colab": {
     "base_uri": "https://localhost:8080/",
     "height": 34
    },
    "colab_type": "code",
    "id": "fN1cKYN_LxU2",
    "outputId": "d5564718-7ed5-419d-aaed-6cae3590edc1"
   },
   "outputs": [
    {
     "name": "stdout",
     "output_type": "stream",
     "text": [
      "5\n"
     ]
    }
   ],
   "source": [
    "list=[1,21,7,-14,49,74,700]\n",
    "\n",
    "def seven_counter(my_list):\n",
    "  ###Your code here###\n",
    "  count= 0\n",
    "  \n",
    "  for num in my_list:\n",
    "    if(num%7 == 0):\n",
    "      count= count +1\n",
    "  \n",
    "  print(count)\n",
    "  \n",
    "  \n",
    "seven_counter(list)"
   ]
  },
  {
   "cell_type": "markdown",
   "metadata": {
    "colab_type": "text",
    "id": "LbIk79KGKFpl"
   },
   "source": [
    "# **Dictionaries**\n",
    "A dictionary is a data type in python that contains both a key and a value, similar to a real dictionary. In real life, the key would be the literal word, and the value would be the definition. In computing, we have more flexibility for our keys and values. For example, a key could be a certain jet from CMS, and the value could be a cross section. "
   ]
  },
  {
   "cell_type": "code",
   "execution_count": 0,
   "metadata": {
    "colab": {},
    "colab_type": "code",
    "id": "L6ZfPV28T6VC"
   },
   "outputs": [],
   "source": [
    "capitals={'United States': 'DC', 'France': 'Paris', 'Mexico': 'DF'}\n",
    "populations={'UMD':40000, 'Towson': 30000, 'UMBC': 20000}\n",
    "\n",
    "\n",
    "print(populations.get('UMD'))"
   ]
  },
  {
   "cell_type": "markdown",
   "metadata": {
    "colab_type": "text",
    "id": "fpiuSZFhWXaI"
   },
   "source": [
    "Using the methods described [here](https://www.programiz.com/python-programming/methods/dictionary), complete the following practice problems with dictionaries."
   ]
  },
  {
   "cell_type": "code",
   "execution_count": 0,
   "metadata": {
    "colab": {},
    "colab_type": "code",
    "id": "5703K-uSWncH"
   },
   "outputs": [],
   "source": [
    "############################DO NOT TOUCH THIS CODE#########################\n",
    "\n",
    "deck={} #represents a deck of cards where the keys are the suits and values are lists of card values\n",
    "\n",
    "hearts=[]\n",
    "clubs=[]\n",
    "diamonds=[]\n",
    "spades=[]\n",
    "values=['ace', 'two', 'three', 'four', 'five', 'six','seven', 'eight', 'nine', 'jack', 'king', 'queen']\n",
    "\n",
    "def create_cards(suit):\n",
    "  for value in values:\n",
    "    suit.append(value)\n",
    "  \n",
    "create_cards(hearts)\n",
    "create_cards(clubs)\n",
    "create_cards(diamonds)\n",
    "create_cards(spades)\n",
    "#############################################################################\n",
    "\n",
    "\n",
    "#Use the strings 'h', 's', 'c', 'd' as keys, and add the lists of values to the dictionary.\n",
    "\n",
    "#Print a view of dictionary (key, value) pairs\n",
    "\n",
    "#Print a view of all of the keys\n",
    "\n",
    "#Print a view of all of the values\n",
    "\n",
    "#Remove all of the spades from the deck\n",
    "\n",
    "#Add a new entry to the dictionary with key 'j' and values 'joker1' and 'joker2'\n",
    "\n",
    "#Clear the dictionary\n",
    "\n",
    "    "
   ]
  },
  {
   "cell_type": "markdown",
   "metadata": {
    "colab_type": "text",
    "id": "VhQ8Yapk2Ppq"
   },
   "source": [
    "# External Libraries\n",
    "Sometimes, the built in functionality of Python and its data structures aren't enough for what we want to accomplish. In that case, we must import external libraries."
   ]
  },
  {
   "cell_type": "markdown",
   "metadata": {
    "colab_type": "text",
    "id": "w9objj102Wjy"
   },
   "source": [
    "In this example, I'll import the math library. An important part of using external libraries is reading documentation. [Here](https://docs.python.org/2/library/math.html) is the documentation for the library. Refer to it if you are unsure what the below code is doing."
   ]
  },
  {
   "cell_type": "code",
   "execution_count": 0,
   "metadata": {
    "colab": {
     "base_uri": "https://localhost:8080/",
     "height": 67
    },
    "colab_type": "code",
    "id": "LhAu_OuU3Rkn",
    "outputId": "69102b85-26b5-4fe6-c96d-1d28194a031f"
   },
   "outputs": [
    {
     "name": "stdout",
     "output_type": "stream",
     "text": [
      "3.141592653589793 5.0\n",
      "3\n",
      "-0.8390715290764524\n"
     ]
    }
   ],
   "source": [
    "import math as m #I use the as m part so when I refer to the library I can just type m instead of math. Its just an abbreviation.\n",
    "\n",
    "print(m.pi, m.log(32, 2))\n",
    "print(m.gcd(75348597,979531683))\n",
    "print(m.cos(10))"
   ]
  },
  {
   "cell_type": "markdown",
   "metadata": {
    "colab_type": "text",
    "id": "Fe9oitLp67_4"
   },
   "source": [
    "Here's a more advanced example."
   ]
  },
  {
   "cell_type": "code",
   "execution_count": 0,
   "metadata": {
    "colab": {
     "base_uri": "https://localhost:8080/",
     "height": 376
    },
    "colab_type": "code",
    "id": "APgQIwYQ6-Up",
    "outputId": "1252998e-264d-48ad-a225-69873825d6d3"
   },
   "outputs": [
    {
     "data": {
      "image/png": "[encoded data removed]",
      "text/plain": [
       "<matplotlib.figure.Figure at 0x7f67ce6f0f28>"
      ]
     },
     "metadata": {
      "tags": []
     },
     "output_type": "display_data"
    }
   ],
   "source": [
    "import matplotlib\n",
    "import matplotlib.pyplot as plt\n",
    "import numpy as np\n",
    "\n",
    "# Data for plotting\n",
    "t = np.arange(0.0, 2.0, 0.01)\n",
    "s = 1 + np.sin(2 * np.pi * t)\n",
    "\n",
    "fig, ax = plt.subplots()\n",
    "ax.plot(t, s)\n",
    "\n",
    "ax.set(xlabel='time (s)', ylabel='voltage (mV)',\n",
    "       title='About as simple as it gets, folks')\n",
    "ax.grid()\n",
    "\n",
    "plt.show()"
   ]
  },
  {
   "cell_type": "code",
   "execution_count": 0,
   "metadata": {
    "colab": {
     "base_uri": "https://localhost:8080/",
     "height": 361
    },
    "colab_type": "code",
    "id": "oFjwgAH_8DU4",
    "outputId": "cc147137-7b0a-4623-d1a7-dcab2373eae9"
   },
   "outputs": [
    {
     "data": {
      "image/png": "[encoded data removed]",
      "text/plain": [
       "<matplotlib.figure.Figure at 0x7f67cb8dbf28>"
      ]
     },
     "metadata": {
      "tags": []
     },
     "output_type": "display_data"
    }
   ],
   "source": [
    "import matplotlib\n",
    "import matplotlib.pyplot as plt\n",
    "import numpy as np\n",
    "\n",
    "data = {'a': np.arange(50),\n",
    "        'c': np.random.randint(0, 50, 50),\n",
    "        'd': np.random.randn(50)}\n",
    "data['b'] = data['a'] + 10 * np.random.randn(50)\n",
    "data['d'] = np.abs(data['d']) * 100\n",
    "\n",
    "plt.scatter('a', 'b', c='c', s='d', data=data)\n",
    "plt.xlabel('entry a')\n",
    "plt.ylabel('entry b')\n",
    "plt.show()"
   ]
  },
  {
   "cell_type": "markdown",
   "metadata": {
    "colab_type": "text",
    "id": "pCUcLzXj8J7P"
   },
   "source": [
    "Google the functions used by the matplotlib and numpy libraries to get an understanding of the flow of the code. In the blank code space below, import the matplotlib and numpy libraries and make any plot of your own. Use the above examples and the documentation pages to help you. "
   ]
  },
  {
   "cell_type": "code",
   "execution_count": 0,
   "metadata": {
    "colab": {},
    "colab_type": "code",
    "id": "Tmn9kMFa8wi8"
   },
   "outputs": [],
   "source": [
    "###YOUR CODE HERE#####"
   ]
  },
  {
   "cell_type": "markdown",
   "metadata": {
    "colab_type": "text",
    "id": "Uv5fyo4_8yze"
   },
   "source": [
    "# That's all folks.\n",
    "That was your crash course in Python. Our hope is that now you'll have an easier time reading and editing already written Python code. As you edit and add to code throughout this course, you'll develop a better understanding of the nuances of python, object oriented design, and scripting. "
   ]
  }
 ],
 "metadata": {
  "colab": {
   "name": "Intro_to_python.ipynb",
   "provenance": []
  },
  "kernelspec": {
   "display_name": "Python 3",
   "language": "python",
   "name": "python3"
  },
  "language_info": {
   "codemirror_mode": {
    "name": "ipython",
    "version": 3
   },
   "file_extension": ".py",
   "mimetype": "text/x-python",
   "name": "python",
   "nbconvert_exporter": "python",
   "pygments_lexer": "ipython3",
   "version": "3.7.6"
  }
 },
 "nbformat": 4,
 "nbformat_minor": 1
}
