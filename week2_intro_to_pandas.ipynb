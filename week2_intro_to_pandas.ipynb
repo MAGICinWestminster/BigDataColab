{
  "nbformat": 4,
  "nbformat_minor": 0,
  "metadata": {
    "colab": {
      "name": "week2_intro_to_pandas.ipynb",
      "provenance": [],
      "collapsed_sections": []
    },
    "kernelspec": {
      "name": "python3",
      "display_name": "Python 3"
    }
  },
  "cells": [
    {
      "cell_type": "markdown",
      "metadata": {
        "id": "5eBw14EpD_ME",
        "colab_type": "text"
      },
      "source": [
        "# Big Data Colab Week 2: Intro to Pandas\n",
        "\n",
        "Welcome to week two of MAGIC's Big Data Colab. This module serves as an introduction to the powerful data science and manipulation library, pandas.\n",
        "\n",
        "Per their own documentation, pandas is a \"fast, powerful, flexible and easy to use open source data analysis and manipulation tool,\n",
        "built on top of the Python programming language.\"\n",
        "\n",
        "As mentioned last week, being an independent learner is a large part of being a success programmer. To solve problems, you have to be able to read documenation. The pandas library is a great place to learn that skill. The library is a massive open source project with lots of great [documentation](https://pandas.pydata.org/docs/). "
      ]
    },
    {
      "cell_type": "markdown",
      "metadata": {
        "id": "1dmBlKuTFVE5",
        "colab_type": "text"
      },
      "source": [
        "## Package Overview\n",
        "\n",
        "As mentioned above, the pandas documentation is really, really great. Because of that I'm not going to try to explain things better than the developers themselves. Any *italicized text* is a snippet taken directly from the documentation.\n",
        "\n",
        "*pandas is a Python package providing fast, flexible, and expressive data structures designed to make working with “relational” or “labeled” data both easy and intuitive. It aims to be the fundamental high-level building block for doing practical, real world data analysis in Python. Additionally, it has the broader goal of becoming the most powerful and flexible open source data analysis / manipulation tool available in any language.*\n",
        "\n"
      ]
    },
    {
      "cell_type": "code",
      "metadata": {
        "id": "mnY310iuGOwn",
        "colab_type": "code",
        "colab": {}
      },
      "source": [
        "import pandas as pd\n",
        "import numpy as np"
      ],
      "execution_count": 2,
      "outputs": []
    },
    {
      "cell_type": "markdown",
      "metadata": {
        "id": "YZKmxoi1GXOA",
        "colab_type": "text"
      },
      "source": [
        "## Data Structures in Pandas\n",
        "\n",
        "Last week you learned about simple data types like integers, strings, lists, and dictionaries. These data structures are provided to you by the python language. However when we're working with more complex datasets, we need more complex (they're not too complex don't worry :) ) data structures.\n",
        "\n",
        "Pandas provides you with two additional data structures. \n",
        "1.   [Series](https://pandas.pydata.org/pandas-docs/stable/reference/series.html)\n",
        "2.   [Dataframe](https://pandas.pydata.org/pandas-docs/stable/reference/api/pandas.DataFrame.html)\n",
        "\n",
        "\n",
        "\n"
      ]
    },
    {
      "cell_type": "markdown",
      "metadata": {
        "id": "WF7zeUjqHokK",
        "colab_type": "text"
      },
      "source": [
        "**Series**: You can think of a series as the same as a list data structure where all elements of the list must be the same type (i.e. number, string, list, dict). A series is still indexed like a python list, starting at 0. At its core, a series is just a list optimized for pandas. "
      ]
    },
    {
      "cell_type": "code",
      "metadata": {
        "id": "iIHcydHqE8Gk",
        "colab_type": "code",
        "colab": {}
      },
      "source": [
        "s = pd.Series([1,2,4,5, np.nan , 6, 8]) # NaN?\n",
        "p = pd.Series([1, 4, \"hey\", 6, 7])\n",
        "\n",
        "\n",
        "lst = ['hey', 'how', 'are', 'you']\n",
        "q = pd.Series(lst)\n",
        "s"
      ],
      "execution_count": null,
      "outputs": []
    },
    {
      "cell_type": "markdown",
      "metadata": {
        "id": "gQJ7H1jgJA-Q",
        "colab_type": "text"
      },
      "source": [
        "**2.1)** Using your skills from last week and what you now know about series, concatenate lst with lst2 then make a series from the new longer list."
      ]
    },
    {
      "cell_type": "code",
      "metadata": {
        "id": "FIjifKarIz87",
        "colab_type": "code",
        "colab": {}
      },
      "source": [
        "##### Your code here. #######\n",
        "lst = [1,2,3,4,5]\n",
        "lst2 = [6,7,8,9,10]\n",
        "\n"
      ],
      "execution_count": null,
      "outputs": []
    },
    {
      "cell_type": "markdown",
      "metadata": {
        "id": "feGaC4qHJrix",
        "colab_type": "text"
      },
      "source": [
        "**Dataframe**: You can think of a dataframe as a group of series where each series has a label. It helps me to visualize a dataframe as an excel sheet where there are columns of data (i.e. series) with labels. The dataframe would be the entire block of information in the excel sheet. You'll notice below that like a list the rows of a dataframe are also indexed."
      ]
    },
    {
      "cell_type": "code",
      "metadata": {
        "id": "2D7L1-irKrg3",
        "colab_type": "code",
        "colab": {
          "base_uri": "https://localhost:8080/",
          "height": 235
        },
        "outputId": "660598dd-c2e0-4fd2-d69f-7bbd6b588c9b"
      },
      "source": [
        "df = pd.DataFrame(\n",
        "    {\n",
        "        'Names': ['Sam', 'Paige', 'Casey', 'Max', 'Alec', 'Collin'],\n",
        "        'Ages': [21, 22, 34, 45, 54, 66],\n",
        "        'Marital Status': ['Single', 'Married', 'Married', 'Single', 'Married', 'Married']\n",
        "    }\n",
        ")\n",
        "\n",
        "df"
      ],
      "execution_count": null,
      "outputs": [
        {
          "output_type": "execute_result",
          "data": {
            "text/html": [
              "<div>\n",
              "<style scoped>\n",
              "    .dataframe tbody tr th:only-of-type {\n",
              "        vertical-align: middle;\n",
              "    }\n",
              "\n",
              "    .dataframe tbody tr th {\n",
              "        vertical-align: top;\n",
              "    }\n",
              "\n",
              "    .dataframe thead th {\n",
              "        text-align: right;\n",
              "    }\n",
              "</style>\n",
              "<table border=\"1\" class=\"dataframe\">\n",
              "  <thead>\n",
              "    <tr style=\"text-align: right;\">\n",
              "      <th></th>\n",
              "      <th>Names</th>\n",
              "      <th>Ages</th>\n",
              "      <th>Marital Status</th>\n",
              "    </tr>\n",
              "  </thead>\n",
              "  <tbody>\n",
              "    <tr>\n",
              "      <th>0</th>\n",
              "      <td>Sam</td>\n",
              "      <td>21</td>\n",
              "      <td>Single</td>\n",
              "    </tr>\n",
              "    <tr>\n",
              "      <th>1</th>\n",
              "      <td>Paige</td>\n",
              "      <td>22</td>\n",
              "      <td>Married</td>\n",
              "    </tr>\n",
              "    <tr>\n",
              "      <th>2</th>\n",
              "      <td>Casey</td>\n",
              "      <td>34</td>\n",
              "      <td>Married</td>\n",
              "    </tr>\n",
              "    <tr>\n",
              "      <th>3</th>\n",
              "      <td>Max</td>\n",
              "      <td>45</td>\n",
              "      <td>Single</td>\n",
              "    </tr>\n",
              "    <tr>\n",
              "      <th>4</th>\n",
              "      <td>Alec</td>\n",
              "      <td>54</td>\n",
              "      <td>Married</td>\n",
              "    </tr>\n",
              "    <tr>\n",
              "      <th>5</th>\n",
              "      <td>Collin</td>\n",
              "      <td>66</td>\n",
              "      <td>Married</td>\n",
              "    </tr>\n",
              "  </tbody>\n",
              "</table>\n",
              "</div>"
            ],
            "text/plain": [
              "    Names  Ages Marital Status\n",
              "0     Sam    21         Single\n",
              "1   Paige    22        Married\n",
              "2   Casey    34        Married\n",
              "3     Max    45         Single\n",
              "4    Alec    54        Married\n",
              "5  Collin    66        Married"
            ]
          },
          "metadata": {
            "tags": []
          },
          "execution_count": 11
        }
      ]
    },
    {
      "cell_type": "markdown",
      "metadata": {
        "id": "Q6qbupF0LccB",
        "colab_type": "text"
      },
      "source": [
        "**2.2)** In the space below, a dictionary is defined that maps a string to a list. Add three entries to the dictionary, a name label with a list of names, a favorite food label with a list of foods, and an animal label with a list of favorite animals. Then load the dictionary into a dataframe."
      ]
    },
    {
      "cell_type": "code",
      "metadata": {
        "id": "s6gGSTrQL2qT",
        "colab_type": "code",
        "colab": {}
      },
      "source": [
        "favs_dict = {}"
      ],
      "execution_count": null,
      "outputs": []
    },
    {
      "cell_type": "markdown",
      "metadata": {
        "id": "g8buh14JgSB5",
        "colab_type": "text"
      },
      "source": [
        "## Data Exploration in Pandas\n",
        "The first step in a data science workflow after loading your dataset is to get familiar with the data. Data exploration is important becuase it helps build intution for what the results of your queries and tests should be. Further down the line this could help you spot errors or bugs in your code. Pandas has lots of built in functionality to help you explore a dataset."
      ]
    },
    {
      "cell_type": "code",
      "metadata": {
        "id": "8SKV5S3OgMTT",
        "colab_type": "code",
        "colab": {}
      },
      "source": [
        "# sklearn is another data science library. Here I'm just using it to grab a dataset.\n",
        "from sklearn.datasets import load_iris\n",
        "iris = load_iris()\n",
        "iris_df = pd.DataFrame(data= np.c_[iris['data'], iris['target']],\n",
        "                     columns= iris['feature_names'] + ['target'])"
      ],
      "execution_count": 3,
      "outputs": []
    },
    {
      "cell_type": "markdown",
      "metadata": {
        "id": "rMssnIFIhwzy",
        "colab_type": "text"
      },
      "source": [
        "First lets consider three things:\n",
        "\n",
        "1. What does the data [look](https://pandas.pydata.org/pandas-docs/stable/reference/api/pandas.DataFrame.head.html) like?\n",
        "2.   What are the [ranges](https://pandas.pydata.org/pandas-docs/stable/reference/api/pandas.DataFrame.describe.html) of your data? Useful to check for outliers and get a feel for the dataset.\n",
        "3.   Are there any [missing or invalid values](https://pandas.pydata.org/pandas-docs/stable/reference/api/pandas.DataFrame.isna.html) in the dataframe?\n",
        "\n"
      ]
    },
    {
      "cell_type": "code",
      "metadata": {
        "id": "WiJLrJ7hiOqC",
        "colab_type": "code",
        "colab": {
          "base_uri": "https://localhost:8080/",
          "height": 34
        },
        "outputId": "42b59f96-5228-4871-f76b-f526ce1d4965"
      },
      "source": [
        "# 1) What does the data look like?\n",
        "df.head(20)\n",
        "df.tail(10)\n",
        "df.size"
      ],
      "execution_count": null,
      "outputs": [
        {
          "output_type": "execute_result",
          "data": {
            "text/plain": [
              "750"
            ]
          },
          "metadata": {
            "tags": []
          },
          "execution_count": 6
        }
      ]
    },
    {
      "cell_type": "code",
      "metadata": {
        "id": "QmvJI2P5kOog",
        "colab_type": "code",
        "colab": {}
      },
      "source": [
        "# 2) What are the ranges of the data?\n",
        "df.describe()"
      ],
      "execution_count": null,
      "outputs": []
    },
    {
      "cell_type": "code",
      "metadata": {
        "id": "IOfDiLwropDl",
        "colab_type": "code",
        "colab": {}
      },
      "source": [
        "# 3) Are there any missing or invalid values?\n",
        "df.isna()\n",
        "df.isna().any()"
      ],
      "execution_count": null,
      "outputs": []
    },
    {
      "cell_type": "markdown",
      "metadata": {
        "id": "kl4PIBYSpEeS",
        "colab_type": "text"
      },
      "source": [
        "**2.3)** In the space below, there is a dataframe that contains data regarding housing in California. Perform a exploratory analysis on the dataframe using the pandas methods shown above. "
      ]
    },
    {
      "cell_type": "code",
      "metadata": {
        "id": "bQoywdQSd3-R",
        "colab_type": "code",
        "colab": {
          "base_uri": "https://localhost:8080/",
          "height": 204
        },
        "outputId": "8c6439c7-6cec-462e-86c2-a956433013f2"
      },
      "source": [
        "housing_df = pd.read_csv(\"https://storage.googleapis.com/mledu-datasets/california_housing_train.csv\", sep=\",\")\n",
        "housing_df.head()"
      ],
      "execution_count": 4,
      "outputs": [
        {
          "output_type": "execute_result",
          "data": {
            "text/html": [
              "<div>\n",
              "<style scoped>\n",
              "    .dataframe tbody tr th:only-of-type {\n",
              "        vertical-align: middle;\n",
              "    }\n",
              "\n",
              "    .dataframe tbody tr th {\n",
              "        vertical-align: top;\n",
              "    }\n",
              "\n",
              "    .dataframe thead th {\n",
              "        text-align: right;\n",
              "    }\n",
              "</style>\n",
              "<table border=\"1\" class=\"dataframe\">\n",
              "  <thead>\n",
              "    <tr style=\"text-align: right;\">\n",
              "      <th></th>\n",
              "      <th>longitude</th>\n",
              "      <th>latitude</th>\n",
              "      <th>housing_median_age</th>\n",
              "      <th>total_rooms</th>\n",
              "      <th>total_bedrooms</th>\n",
              "      <th>population</th>\n",
              "      <th>households</th>\n",
              "      <th>median_income</th>\n",
              "      <th>median_house_value</th>\n",
              "    </tr>\n",
              "  </thead>\n",
              "  <tbody>\n",
              "    <tr>\n",
              "      <th>0</th>\n",
              "      <td>-114.31</td>\n",
              "      <td>34.19</td>\n",
              "      <td>15.0</td>\n",
              "      <td>5612.0</td>\n",
              "      <td>1283.0</td>\n",
              "      <td>1015.0</td>\n",
              "      <td>472.0</td>\n",
              "      <td>1.4936</td>\n",
              "      <td>66900.0</td>\n",
              "    </tr>\n",
              "    <tr>\n",
              "      <th>1</th>\n",
              "      <td>-114.47</td>\n",
              "      <td>34.40</td>\n",
              "      <td>19.0</td>\n",
              "      <td>7650.0</td>\n",
              "      <td>1901.0</td>\n",
              "      <td>1129.0</td>\n",
              "      <td>463.0</td>\n",
              "      <td>1.8200</td>\n",
              "      <td>80100.0</td>\n",
              "    </tr>\n",
              "    <tr>\n",
              "      <th>2</th>\n",
              "      <td>-114.56</td>\n",
              "      <td>33.69</td>\n",
              "      <td>17.0</td>\n",
              "      <td>720.0</td>\n",
              "      <td>174.0</td>\n",
              "      <td>333.0</td>\n",
              "      <td>117.0</td>\n",
              "      <td>1.6509</td>\n",
              "      <td>85700.0</td>\n",
              "    </tr>\n",
              "    <tr>\n",
              "      <th>3</th>\n",
              "      <td>-114.57</td>\n",
              "      <td>33.64</td>\n",
              "      <td>14.0</td>\n",
              "      <td>1501.0</td>\n",
              "      <td>337.0</td>\n",
              "      <td>515.0</td>\n",
              "      <td>226.0</td>\n",
              "      <td>3.1917</td>\n",
              "      <td>73400.0</td>\n",
              "    </tr>\n",
              "    <tr>\n",
              "      <th>4</th>\n",
              "      <td>-114.57</td>\n",
              "      <td>33.57</td>\n",
              "      <td>20.0</td>\n",
              "      <td>1454.0</td>\n",
              "      <td>326.0</td>\n",
              "      <td>624.0</td>\n",
              "      <td>262.0</td>\n",
              "      <td>1.9250</td>\n",
              "      <td>65500.0</td>\n",
              "    </tr>\n",
              "  </tbody>\n",
              "</table>\n",
              "</div>"
            ],
            "text/plain": [
              "   longitude  latitude  ...  median_income  median_house_value\n",
              "0    -114.31     34.19  ...         1.4936             66900.0\n",
              "1    -114.47     34.40  ...         1.8200             80100.0\n",
              "2    -114.56     33.69  ...         1.6509             85700.0\n",
              "3    -114.57     33.64  ...         3.1917             73400.0\n",
              "4    -114.57     33.57  ...         1.9250             65500.0\n",
              "\n",
              "[5 rows x 9 columns]"
            ]
          },
          "metadata": {
            "tags": []
          },
          "execution_count": 4
        }
      ]
    },
    {
      "cell_type": "markdown",
      "metadata": {
        "id": "q-ujCSCumSkl",
        "colab_type": "text"
      },
      "source": [
        "## Data selection in Pandas\n",
        "\n",
        "### Selecting Columns\n",
        "In a large dataframe, it may be useful to display only select columns. This can be done similarly to querying a dict for a certain value. To display certain columns, pass the names of the columns (as a list) to the dataframe.\n",
        "\n"
      ]
    },
    {
      "cell_type": "code",
      "metadata": {
        "id": "Ln-Ulwj4oH0c",
        "colab_type": "code",
        "colab": {}
      },
      "source": [
        "iris_df[['sepal length (cm)', 'sepal width (cm)']]"
      ],
      "execution_count": null,
      "outputs": []
    },
    {
      "cell_type": "markdown",
      "metadata": {
        "id": "AeZwVGYzoYKK",
        "colab_type": "text"
      },
      "source": [
        "**2.4)** Try out selecting certain columns from the housing dataframe."
      ]
    },
    {
      "cell_type": "code",
      "metadata": {
        "id": "rvXo4uxVogAN",
        "colab_type": "code",
        "colab": {}
      },
      "source": [
        "##### YOUR CODE HERE ########"
      ],
      "execution_count": null,
      "outputs": []
    },
    {
      "cell_type": "markdown",
      "metadata": {
        "id": "rHNeyQa-onto",
        "colab_type": "text"
      },
      "source": [
        "### Selecting Rows\n",
        "Selecting rows is slightly more complex than selecting columns. For example, you may want to select rows based on an index, a conditions, or even multiple conditions.\n",
        "\n",
        "To accomplish this, we rely on the `loc` and `iloc` functions. They are similar in name and easy to confuse but provide different functionality.\n",
        "\n",
        "`iloc`: Looks up rows by index (iloc...i-loc...i-locate...index-locate). Allows you to look up a specific row or a range of rows\n",
        "\n",
        "`loc`: Looks up rows based on condition(s).\n",
        "\n",
        "See examples below."
      ]
    },
    {
      "cell_type": "code",
      "metadata": {
        "id": "GTeVWD3HqLpj",
        "colab_type": "code",
        "colab": {}
      },
      "source": [
        "####### iloc #########\n",
        "\n",
        "iris_df.iloc[45] # Select individual rows.\n",
        "iris_df.iloc[1:15] # Select range of rows.\n",
        "iris_df.iloc[1:15, 1:3] # Select slice of rows and columns."
      ],
      "execution_count": null,
      "outputs": []
    },
    {
      "cell_type": "code",
      "metadata": {
        "id": "pFKp8a0pq9QD",
        "colab_type": "code",
        "colab": {}
      },
      "source": [
        "####### loc ###########\n",
        "iris_df.loc[iris_df['sepal length (cm)'] > 5.8]\n",
        "iris_df.loc[(iris_df['sepal length (cm)'] > 5.8) & (iris_df['petal length (cm)'] > 4.8)]\n"
      ],
      "execution_count": null,
      "outputs": []
    },
    {
      "cell_type": "code",
      "metadata": {
        "id": "F4bfAeh3oXuM",
        "colab_type": "code",
        "colab": {}
      },
      "source": [
        "iris_df.describe()"
      ],
      "execution_count": null,
      "outputs": []
    },
    {
      "cell_type": "markdown",
      "metadata": {
        "id": "cGsopatbBMin",
        "colab_type": "text"
      },
      "source": [
        "### Iterating Over a Dataframe\n",
        "Much like lists, sometimes its useful to iterate over a Dataframe (i.e. for x in df). However, as you'll see below there are a few tricks to speeding up dataframe iteration. [Here](https://towardsdatascience.com/how-to-make-your-pandas-loop-71-803-times-faster-805030df4f06) is an article with "
      ]
    },
    {
      "cell_type": "code",
      "metadata": {
        "id": "dsW5JwZhBawO",
        "colab_type": "code",
        "colab": {
          "base_uri": "https://localhost:8080/",
          "height": 34
        },
        "outputId": "f074763f-d6e7-4219-9390-194777175bb9"
      },
      "source": [
        "# Naive loop. Iterates over Dataframe object in python. \n",
        "# Doesnt take advantage of built in C code in pandas.\n",
        "\n",
        "%%timeit\n",
        "dummy = 0\n",
        "for row in range(0, len(iris_df)):\n",
        "  dummy+= iris_df.iloc[row]['petal width (cm)']"
      ],
      "execution_count": 15,
      "outputs": [
        {
          "output_type": "stream",
          "text": [
            "100 loops, best of 3: 15 ms per loop\n"
          ],
          "name": "stdout"
        }
      ]
    },
    {
      "cell_type": "code",
      "metadata": {
        "id": "Azuso_RbCV63",
        "colab_type": "code",
        "colab": {
          "base_uri": "https://localhost:8080/",
          "height": 34
        },
        "outputId": "6100e9a1-4dca-4b14-8dfd-0ac8fb70df71"
      },
      "source": [
        "# Uses pandas functionality and optimized C code.\n",
        "%%timeit\n",
        "dummy = 0\n",
        "for index, row in iris_df.iterrows():\n",
        "  dummy+=row['petal width (cm)']"
      ],
      "execution_count": 20,
      "outputs": [
        {
          "output_type": "stream",
          "text": [
            "100 loops, best of 3: 9.84 ms per loop\n"
          ],
          "name": "stdout"
        }
      ]
    },
    {
      "cell_type": "code",
      "metadata": {
        "id": "AMHJRRPEEX1b",
        "colab_type": "code",
        "colab": {
          "base_uri": "https://localhost:8080/",
          "height": 51
        },
        "outputId": "7dae3113-7ff1-4cba-c360-21b70c9dab85"
      },
      "source": [
        "# Vectorization. Just iterate and load into memory what we need.\n",
        "%%timeit\n",
        "dummy = 0\n",
        "dummy += iris_df['petal width (cm)']"
      ],
      "execution_count": 21,
      "outputs": [
        {
          "output_type": "stream",
          "text": [
            "The slowest run took 195.02 times longer than the fastest. This could mean that an intermediate result is being cached.\n",
            "10000 loops, best of 3: 127 µs per loop\n"
          ],
          "name": "stdout"
        }
      ]
    },
    {
      "cell_type": "markdown",
      "metadata": {
        "id": "T-REKYdLFKjQ",
        "colab_type": "text"
      },
      "source": [
        "**2.5)** The california housing dataframe is much larger than the iris dataframe. That means you'll be able to see an even greater difference in performance between the iteration techniques. Try two of the above techniques and timeit!"
      ]
    },
    {
      "cell_type": "code",
      "metadata": {
        "id": "apyv6GiKCynu",
        "colab_type": "code",
        "colab": {}
      },
      "source": [
        ""
      ],
      "execution_count": null,
      "outputs": []
    },
    {
      "cell_type": "markdown",
      "metadata": {
        "id": "9dOiCn9NGTco",
        "colab_type": "text"
      },
      "source": [
        "# Data Visualization\n",
        "To wrap up this week, we'll take a brief look at [matplotlib](https://matplotlib.org/), a popular libaray used to make both simple and complex visualizations from data. "
      ]
    },
    {
      "cell_type": "code",
      "metadata": {
        "id": "Z5Mzq_6kIvsU",
        "colab_type": "code",
        "colab": {
          "base_uri": "https://localhost:8080/",
          "height": 204
        },
        "outputId": "bfd7d968-0ace-4d53-e67a-b6a312e48190"
      },
      "source": [
        "import matplotlib.pyplot as plt\n",
        "iris_df.head()\n"
      ],
      "execution_count": 23,
      "outputs": [
        {
          "output_type": "execute_result",
          "data": {
            "text/html": [
              "<div>\n",
              "<style scoped>\n",
              "    .dataframe tbody tr th:only-of-type {\n",
              "        vertical-align: middle;\n",
              "    }\n",
              "\n",
              "    .dataframe tbody tr th {\n",
              "        vertical-align: top;\n",
              "    }\n",
              "\n",
              "    .dataframe thead th {\n",
              "        text-align: right;\n",
              "    }\n",
              "</style>\n",
              "<table border=\"1\" class=\"dataframe\">\n",
              "  <thead>\n",
              "    <tr style=\"text-align: right;\">\n",
              "      <th></th>\n",
              "      <th>sepal length (cm)</th>\n",
              "      <th>sepal width (cm)</th>\n",
              "      <th>petal length (cm)</th>\n",
              "      <th>petal width (cm)</th>\n",
              "      <th>target</th>\n",
              "    </tr>\n",
              "  </thead>\n",
              "  <tbody>\n",
              "    <tr>\n",
              "      <th>0</th>\n",
              "      <td>5.1</td>\n",
              "      <td>3.5</td>\n",
              "      <td>1.4</td>\n",
              "      <td>0.2</td>\n",
              "      <td>0.0</td>\n",
              "    </tr>\n",
              "    <tr>\n",
              "      <th>1</th>\n",
              "      <td>4.9</td>\n",
              "      <td>3.0</td>\n",
              "      <td>1.4</td>\n",
              "      <td>0.2</td>\n",
              "      <td>0.0</td>\n",
              "    </tr>\n",
              "    <tr>\n",
              "      <th>2</th>\n",
              "      <td>4.7</td>\n",
              "      <td>3.2</td>\n",
              "      <td>1.3</td>\n",
              "      <td>0.2</td>\n",
              "      <td>0.0</td>\n",
              "    </tr>\n",
              "    <tr>\n",
              "      <th>3</th>\n",
              "      <td>4.6</td>\n",
              "      <td>3.1</td>\n",
              "      <td>1.5</td>\n",
              "      <td>0.2</td>\n",
              "      <td>0.0</td>\n",
              "    </tr>\n",
              "    <tr>\n",
              "      <th>4</th>\n",
              "      <td>5.0</td>\n",
              "      <td>3.6</td>\n",
              "      <td>1.4</td>\n",
              "      <td>0.2</td>\n",
              "      <td>0.0</td>\n",
              "    </tr>\n",
              "  </tbody>\n",
              "</table>\n",
              "</div>"
            ],
            "text/plain": [
              "   sepal length (cm)  sepal width (cm)  ...  petal width (cm)  target\n",
              "0                5.1               3.5  ...               0.2     0.0\n",
              "1                4.9               3.0  ...               0.2     0.0\n",
              "2                4.7               3.2  ...               0.2     0.0\n",
              "3                4.6               3.1  ...               0.2     0.0\n",
              "4                5.0               3.6  ...               0.2     0.0\n",
              "\n",
              "[5 rows x 5 columns]"
            ]
          },
          "metadata": {
            "tags": []
          },
          "execution_count": 23
        }
      ]
    },
    {
      "cell_type": "markdown",
      "metadata": {
        "id": "yL_-JKOVImU_",
        "colab_type": "text"
      },
      "source": [
        "Once you understand how to use the pyplot (python plot) object, its easy to read the documentation and make graphs of any type. As an example, lets make a histogram to see the spread of sepal lengths in the iris_df."
      ]
    },
    {
      "cell_type": "code",
      "metadata": {
        "id": "jhzaLQMVJMNr",
        "colab_type": "code",
        "colab": {
          "base_uri": "https://localhost:8080/",
          "height": 350
        },
        "outputId": "54276680-91e9-432c-fd24-fdfc267e6e06"
      },
      "source": [
        "plt.hist(iris_df['sepal length (cm)'], bins=20)"
      ],
      "execution_count": 27,
      "outputs": [
        {
          "output_type": "execute_result",
          "data": {
            "text/plain": [
              "(array([ 4.,  5.,  7., 16.,  9.,  5., 13., 14., 10.,  6., 10., 16.,  7.,\n",
              "        11.,  4.,  2.,  4.,  1.,  5.,  1.]),\n",
              " array([4.3 , 4.48, 4.66, 4.84, 5.02, 5.2 , 5.38, 5.56, 5.74, 5.92, 6.1 ,\n",
              "        6.28, 6.46, 6.64, 6.82, 7.  , 7.18, 7.36, 7.54, 7.72, 7.9 ]),\n",
              " <a list of 20 Patch objects>)"
            ]
          },
          "metadata": {
            "tags": []
          },
          "execution_count": 27
        },
        {
          "output_type": "display_data",
          "data": {
            "image/png": "[encoded data removed]",
            "text/plain": [
              "<Figure size 432x288 with 1 Axes>"
            ]
          },
          "metadata": {
            "tags": [],
            "needs_background": "light"
          }
        }
      ]
    },
    {
      "cell_type": "markdown",
      "metadata": {
        "id": "tNf17UDPJ95T",
        "colab_type": "text"
      },
      "source": [
        "**2.6)** Lets combine our knowledge of plotting with some of the things we learned above. You're curious about the median house value in high density areas of California. Specifically, areas with a population greater than 1000. Write code that creates a histogram of the median house value of for blocks with a population greater than 1000.\n",
        "\n",
        "First, complete the task using row selection functions (iloc or loc).\n",
        "\n",
        "Second, complete the task by iterating over the dataframe and adding the median house values to a list (if the population is greater than 1000).\n",
        "\n",
        "You should construct the same histogram using both methods. Run a timeit to see which version is faster."
      ]
    },
    {
      "cell_type": "code",
      "metadata": {
        "id": "Uq1xKT3mKHJI",
        "colab_type": "code",
        "colab": {}
      },
      "source": [
        "### Create histogram using row selection here.\n",
        "\n"
      ],
      "execution_count": null,
      "outputs": []
    },
    {
      "cell_type": "code",
      "metadata": {
        "id": "_FLlLn6oMHlw",
        "colab_type": "code",
        "colab": {}
      },
      "source": [
        "### Create histogram using iteration here.\n"
      ],
      "execution_count": null,
      "outputs": []
    },
    {
      "cell_type": "markdown",
      "metadata": {
        "id": "R3ZkZekCyCVW",
        "colab_type": "text"
      },
      "source": [
        "## Project\n",
        "\n",
        "Last week we saw a series of challenge exercies. This week, instead of exercises, you're going to work through a more complex notebook that does some real COVID-19 analysis. You won't have to write any code, but try your best to understand what is going on. Take some time to follow the author's workflow. Its very similar to the examples you just saw above.\n",
        "\n",
        "There are certainly going to be functions in the notebook that you haven't seen before. For most people, its impossible to be familiar with the entire pandas library. If you see a function call you don't recognize, look it up in the [documentation](https://pandas.pydata.org/pandas-docs/stable/index.html). If you're still stuck, don't hesistate to drop questions in the slack channel during the week!\n",
        "\n",
        "[Here](https://colab.research.google.com/github/hugobowne/COVID-19-EDA-tutorial/blob/master/notebooks/1-COVID-19-EDA-solution.ipynb#scrollTo=PttQGSbOp8E7) is the notebook.\n",
        "\n",
        "If you'd like more Dataframe practice, [here](https://www.w3resource.com/python-exercises/pandas/index-dataframe.php) is a list of problems."
      ]
    }
  ]
}